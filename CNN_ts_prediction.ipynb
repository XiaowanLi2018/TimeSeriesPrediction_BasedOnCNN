{
 "cells": [
  {
   "cell_type": "code",
   "execution_count": 1,
   "metadata": {},
   "outputs": [
    {
     "name": "stdout",
     "output_type": "stream",
     "text": [
      "env: CUDA_VISIBLE_DEVICES=1\n"
     ]
    }
   ],
   "source": [
    "%env CUDA_VISIBLE_DEVICES = 1\n",
    "import numpy as np\n",
    "import pandas as pd\n",
    "import matplotlib.pyplot as plt\n",
    "%matplotlib inline "
   ]
  },
  {
   "cell_type": "code",
   "execution_count": 2,
   "metadata": {},
   "outputs": [],
   "source": [
    "df_sr4 = pd.read_csv('../TEST/synthetic_rnn/data_level4.csv')\n",
    "df_week = pd.read_csv('../TEST/synthetic_rnn/dim_week.csv')\n",
    "df_lc = pd.read_csv('../TEST/synthetic_rnn/dim_product_lc.csv')"
   ]
  },
  {
   "cell_type": "code",
   "execution_count": 3,
   "metadata": {},
   "outputs": [],
   "source": [
    "df_sr4 = pd.merge(df_sr4,df_week,on=['week_begin','week_end','week_of_year','week_from_cny',\n",
    "                                     'dayOff'],how='inner')"
   ]
  },
  {
   "cell_type": "code",
   "execution_count": 4,
   "metadata": {},
   "outputs": [],
   "source": [
    "df_sr4 = pd.merge(df_sr4,df_lc,on=['LC','product','sub_category','category','temp','off_on_ratio'],how='inner',suffixes='lr')"
   ]
  },
  {
   "cell_type": "code",
   "execution_count": 5,
   "metadata": {},
   "outputs": [],
   "source": [
    "import datetime\n",
    "df_sr4.week_begin = pd.to_datetime(df_sr4.week_begin)\n",
    "df_sr4.week_end = pd.to_datetime(df_sr4.week_end)"
   ]
  },
  {
   "cell_type": "code",
   "execution_count": 6,
   "metadata": {},
   "outputs": [],
   "source": [
    "ENC_COL = ['week_from_cny',\n",
    " 'off_on_ratio','week_of_year',\n",
    " 'holiday_effect_noncny',\n",
    " 'is_cny']"
   ]
  },
  {
   "cell_type": "code",
   "execution_count": 7,
   "metadata": {},
   "outputs": [],
   "source": [
    "SR_FEATURE = [ 'sr','same_product_event_sr',\n",
    " 'same_subcategory_event_sr',\n",
    " 'same_category_event_sr',]"
   ]
  },
  {
   "cell_type": "code",
   "execution_count": 8,
   "metadata": {},
   "outputs": [],
   "source": [
    "FEATURE = SR_FEATURE+ENC_COL"
   ]
  },
  {
   "cell_type": "code",
   "execution_count": 9,
   "metadata": {},
   "outputs": [
    {
     "data": {
      "text/html": [
       "<div>\n",
       "<style scoped>\n",
       "    .dataframe tbody tr th:only-of-type {\n",
       "        vertical-align: middle;\n",
       "    }\n",
       "\n",
       "    .dataframe tbody tr th {\n",
       "        vertical-align: top;\n",
       "    }\n",
       "\n",
       "    .dataframe thead th {\n",
       "        text-align: right;\n",
       "    }\n",
       "</style>\n",
       "<table border=\"1\" class=\"dataframe\">\n",
       "  <thead>\n",
       "    <tr style=\"text-align: right;\">\n",
       "      <th></th>\n",
       "      <th>LC</th>\n",
       "      <th>product</th>\n",
       "      <th>temp</th>\n",
       "      <th>category</th>\n",
       "      <th>sub_category</th>\n",
       "      <th>off_on_ratio</th>\n",
       "      <th>week_begin</th>\n",
       "      <th>week_end</th>\n",
       "      <th>week_of_year</th>\n",
       "      <th>week_from_cny</th>\n",
       "      <th>dayOff</th>\n",
       "      <th>week_ind</th>\n",
       "      <th>sr</th>\n",
       "      <th>holiday_effect_noncny</th>\n",
       "      <th>with_mobile_coupon</th>\n",
       "      <th>same_product_event_sr</th>\n",
       "      <th>same_subcategory_event_sr</th>\n",
       "      <th>same_category_event_sr</th>\n",
       "      <th>is_cny</th>\n",
       "      <th>sr_level</th>\n",
       "    </tr>\n",
       "  </thead>\n",
       "  <tbody>\n",
       "    <tr>\n",
       "      <th>0</th>\n",
       "      <td>0</td>\n",
       "      <td>0</td>\n",
       "      <td>hot</td>\n",
       "      <td>3</td>\n",
       "      <td>10</td>\n",
       "      <td>0.974063</td>\n",
       "      <td>2015-01-05</td>\n",
       "      <td>2015-01-11</td>\n",
       "      <td>2</td>\n",
       "      <td>0</td>\n",
       "      <td>2</td>\n",
       "      <td>0</td>\n",
       "      <td>30.082227</td>\n",
       "      <td>1.0</td>\n",
       "      <td>0.0</td>\n",
       "      <td>0.0</td>\n",
       "      <td>0.0</td>\n",
       "      <td>0.000000</td>\n",
       "      <td>0</td>\n",
       "      <td>7.919103</td>\n",
       "    </tr>\n",
       "    <tr>\n",
       "      <th>1</th>\n",
       "      <td>0</td>\n",
       "      <td>0</td>\n",
       "      <td>hot</td>\n",
       "      <td>3</td>\n",
       "      <td>10</td>\n",
       "      <td>0.974063</td>\n",
       "      <td>2015-01-12</td>\n",
       "      <td>2015-01-18</td>\n",
       "      <td>3</td>\n",
       "      <td>0</td>\n",
       "      <td>2</td>\n",
       "      <td>1</td>\n",
       "      <td>29.812660</td>\n",
       "      <td>1.0</td>\n",
       "      <td>0.0</td>\n",
       "      <td>0.0</td>\n",
       "      <td>0.0</td>\n",
       "      <td>0.000000</td>\n",
       "      <td>0</td>\n",
       "      <td>7.919103</td>\n",
       "    </tr>\n",
       "    <tr>\n",
       "      <th>2</th>\n",
       "      <td>0</td>\n",
       "      <td>0</td>\n",
       "      <td>hot</td>\n",
       "      <td>3</td>\n",
       "      <td>10</td>\n",
       "      <td>0.974063</td>\n",
       "      <td>2015-01-19</td>\n",
       "      <td>2015-01-25</td>\n",
       "      <td>4</td>\n",
       "      <td>0</td>\n",
       "      <td>2</td>\n",
       "      <td>2</td>\n",
       "      <td>29.237116</td>\n",
       "      <td>1.0</td>\n",
       "      <td>0.0</td>\n",
       "      <td>0.0</td>\n",
       "      <td>0.0</td>\n",
       "      <td>38.057621</td>\n",
       "      <td>0</td>\n",
       "      <td>7.919103</td>\n",
       "    </tr>\n",
       "    <tr>\n",
       "      <th>3</th>\n",
       "      <td>0</td>\n",
       "      <td>0</td>\n",
       "      <td>hot</td>\n",
       "      <td>3</td>\n",
       "      <td>10</td>\n",
       "      <td>0.974063</td>\n",
       "      <td>2015-01-26</td>\n",
       "      <td>2015-02-01</td>\n",
       "      <td>5</td>\n",
       "      <td>1</td>\n",
       "      <td>2</td>\n",
       "      <td>3</td>\n",
       "      <td>28.814277</td>\n",
       "      <td>1.0</td>\n",
       "      <td>0.0</td>\n",
       "      <td>0.0</td>\n",
       "      <td>0.0</td>\n",
       "      <td>38.057621</td>\n",
       "      <td>0</td>\n",
       "      <td>7.919103</td>\n",
       "    </tr>\n",
       "    <tr>\n",
       "      <th>4</th>\n",
       "      <td>0</td>\n",
       "      <td>0</td>\n",
       "      <td>hot</td>\n",
       "      <td>3</td>\n",
       "      <td>10</td>\n",
       "      <td>0.974063</td>\n",
       "      <td>2015-02-02</td>\n",
       "      <td>2015-02-08</td>\n",
       "      <td>6</td>\n",
       "      <td>2</td>\n",
       "      <td>2</td>\n",
       "      <td>4</td>\n",
       "      <td>28.387729</td>\n",
       "      <td>1.0</td>\n",
       "      <td>0.0</td>\n",
       "      <td>0.0</td>\n",
       "      <td>0.0</td>\n",
       "      <td>38.057621</td>\n",
       "      <td>0</td>\n",
       "      <td>7.919103</td>\n",
       "    </tr>\n",
       "  </tbody>\n",
       "</table>\n",
       "</div>"
      ],
      "text/plain": [
       "   LC  product temp  category  sub_category  off_on_ratio week_begin  \\\n",
       "0   0        0  hot         3            10      0.974063 2015-01-05   \n",
       "1   0        0  hot         3            10      0.974063 2015-01-12   \n",
       "2   0        0  hot         3            10      0.974063 2015-01-19   \n",
       "3   0        0  hot         3            10      0.974063 2015-01-26   \n",
       "4   0        0  hot         3            10      0.974063 2015-02-02   \n",
       "\n",
       "    week_end  week_of_year  week_from_cny  dayOff  week_ind         sr  \\\n",
       "0 2015-01-11             2              0       2         0  30.082227   \n",
       "1 2015-01-18             3              0       2         1  29.812660   \n",
       "2 2015-01-25             4              0       2         2  29.237116   \n",
       "3 2015-02-01             5              1       2         3  28.814277   \n",
       "4 2015-02-08             6              2       2         4  28.387729   \n",
       "\n",
       "   holiday_effect_noncny  with_mobile_coupon  same_product_event_sr  \\\n",
       "0                    1.0                 0.0                    0.0   \n",
       "1                    1.0                 0.0                    0.0   \n",
       "2                    1.0                 0.0                    0.0   \n",
       "3                    1.0                 0.0                    0.0   \n",
       "4                    1.0                 0.0                    0.0   \n",
       "\n",
       "   same_subcategory_event_sr  same_category_event_sr  is_cny  sr_level  \n",
       "0                        0.0                0.000000       0  7.919103  \n",
       "1                        0.0                0.000000       0  7.919103  \n",
       "2                        0.0               38.057621       0  7.919103  \n",
       "3                        0.0               38.057621       0  7.919103  \n",
       "4                        0.0               38.057621       0  7.919103  "
      ]
     },
     "execution_count": 9,
     "metadata": {},
     "output_type": "execute_result"
    }
   ],
   "source": [
    "df_sr4.head()"
   ]
  },
  {
   "cell_type": "code",
   "execution_count": 10,
   "metadata": {},
   "outputs": [],
   "source": [
    "def split_train_test(df_all,input_sequence_length,pred_length,week_length=156,lag=1): \n",
    "    #### Input data formatting   \n",
    "    date_to_index = pd.Series(index=pd.Index([pd.to_datetime(c) for c in df_all.week_begin[0:week_length]]),\n",
    "                              data=[i for i in range(len(df_all.week_begin[0:week_length]))])\n",
    "    train_last_week_begin = date_to_index.index[0]\n",
    "    test_last_week_begin = week_length - pred_length - input_sequence_length - lag\n",
    "\n",
    "    val_last_week_end = week_length - pred_length - lag\n",
    "    val_last_week_begin = val_last_week_end - pred_length - input_sequence_length -lag\n",
    "    \n",
    "    train_last_week_end = val_last_week_end - pred_length - lag\n",
    "    \n",
    "    train_time_split = date_to_index.index[train_last_week_end]\n",
    "    test_time_split = date_to_index.index[test_last_week_begin]   \n",
    "    val_time_split_begin = date_to_index.index[val_last_week_begin]   \n",
    "    val_time_split_end = date_to_index.index[val_last_week_end] \n",
    "    \n",
    "    train = df_all[df_all['week_begin']<=pd.to_datetime(train_time_split)]\n",
    "    test = df_all[df_all['week_begin']>=pd.to_datetime(test_time_split)]\n",
    "    val = df_all[(df_all['week_begin']>=pd.to_datetime(val_time_split_begin))&\n",
    "                (df_all['week_begin']<=pd.to_datetime(val_time_split_end))]\n",
    "\n",
    "    return train,test,val"
   ]
  },
  {
   "cell_type": "code",
   "execution_count": 17,
   "metadata": {},
   "outputs": [],
   "source": [
    "ENC_LENGTH = 18*4\n",
    "PRED_LENGTH = 18\n",
    "#fea_num = len(FEATURE_COL)\n",
    "BATCH_SIZE = 128\n",
    "whole_ts = PRED_LENGTH+ENC_LENGTH\n",
    "TRAIN,TEST,VAL = split_train_test(df_sr4,ENC_LENGTH,PRED_LENGTH)"
   ]
  },
  {
   "cell_type": "code",
   "execution_count": 12,
   "metadata": {},
   "outputs": [
    {
     "name": "stdout",
     "output_type": "stream",
     "text": [
      "Period of train data is from:2015-01-05 00:00:00 to:2017-04-10 00:00:00\n",
      "Period of test data is from:2016-04-04 00:00:00 to:2017-12-25 00:00:00\n",
      "Period of val data is from:2015-11-23 00:00:00 to:2017-08-21 00:00:00\n"
     ]
    }
   ],
   "source": [
    "print('Period of train data is from:{} to:{}'.format(np.min(TRAIN.week_begin),np.max(TRAIN.week_begin)))\n",
    "print('Period of test data is from:{} to:{}'.format(np.min(TEST.week_begin),np.max(TEST.week_begin)))\n",
    "print('Period of val data is from:{} to:{}'.format(np.min(VAL.week_begin),np.max(VAL.week_begin)))"
   ]
  },
  {
   "cell_type": "code",
   "execution_count": 48,
   "metadata": {},
   "outputs": [],
   "source": [
    "from sklearn.preprocessing import LabelEncoder, OneHotEncoder, StandardScaler\n",
    "enc = OneHotEncoder()\n",
    "f_mtx = df_sr4[FEATURE].iloc[:,1:]\n",
    "f_in = np.array(f_mtx)[:,(len(SR_FEATURE)-1):]\n",
    "t_enc = enc.fit(f_in)"
   ]
  },
  {
   "cell_type": "code",
   "execution_count": 124,
   "metadata": {},
   "outputs": [
    {
     "data": {
      "text/plain": [
       "39962"
      ]
     },
     "execution_count": 124,
     "metadata": {},
     "output_type": "execute_result"
    }
   ],
   "source": [
    "len(TRAIN_FEATURE_DATA)"
   ]
  },
  {
   "cell_type": "code",
   "execution_count": 73,
   "metadata": {},
   "outputs": [],
   "source": [
    "def get_feature_num(df_sample):\n",
    "    #std_feature = StandardScaler.fit_transform(feature_mtx)\n",
    "    enc_mtx = enc.transform(df_sample).toarray()\n",
    "    return (enc_mtx.shape[1]+len(SR_FEATURE))"
   ]
  },
  {
   "cell_type": "code",
   "execution_count": 64,
   "metadata": {},
   "outputs": [],
   "source": [
    "def get_ts_info(df):\n",
    "    df_group = df.groupby(['LC','product'])\n",
    "    feature_data = []\n",
    "    sr_data = []\n",
    "    for i in df_group:\n",
    "        # print(s_data.shape)\n",
    "        s_sample = i[1].sort_values(by=['week_begin'],ascending=True)\n",
    "        row = i[1].shape[0]\n",
    "        for j in range(0,row-whole_ts,1):\n",
    "            x_col = s_sample.iloc[j:(j+whole_ts)][FEATURE]\n",
    "            x = x_col.iloc[:,1:]\n",
    "            y = x_col.iloc[:,0]\n",
    "            feature_data.append(x.values)\n",
    "            sr_data.append(y.values)\n",
    "    return feature_data,sr_data"
   ]
  },
  {
   "cell_type": "code",
   "execution_count": 18,
   "metadata": {},
   "outputs": [],
   "source": [
    "TRAIN_FEATURE_DATA,TRAIN_SR_DATA = get_ts_info(TRAIN)\n",
    "VAL_FEATURE_DATA,VAL_SR_DATA = get_ts_info(VAL)"
   ]
  },
  {
   "cell_type": "code",
   "execution_count": 21,
   "metadata": {},
   "outputs": [
    {
     "data": {
      "text/plain": [
       "(90, 8)"
      ]
     },
     "execution_count": 21,
     "metadata": {},
     "output_type": "execute_result"
    }
   ],
   "source": [
    "TRAIN_FEATURE_DATA[0].shape"
   ]
  },
  {
   "cell_type": "code",
   "execution_count": 65,
   "metadata": {},
   "outputs": [],
   "source": [
    "def get_batch_matrix(feature_list,sr_list,index,input_sequence_length,target_sequence_length):\n",
    "    ############## get time series data #################\n",
    "    whole = input_sequence_length+target_sequence_length\n",
    "    TS_mean = []\n",
    "    X = sr_list[index]\n",
    "    X = np.log1p(X)\n",
    "    ts_mean = X.mean()\n",
    "    TS_mean.append(ts_mean)\n",
    "    X = X/ts_mean\n",
    "    #X_input = X[:input_sequence_length]\n",
    "    Y = X[input_sequence_length:]\n",
    "    \n",
    "    feature = get_feature_mtx(feature_list[index],len(SR_FEATURE)-1)\n",
    "    # f = get_enc_data(feature)\n",
    "    # other_features = df[SR_FEATURE][:whole]\n",
    "    # feature = np.hstack([stable_features,other_features])\n",
    "    #Y_feature = np.hstack([df[ENC_COL][input_sequence_length:],df[SR_FEATURE][input_sequence_length:]])\n",
    "    return X,feature,Y,TS_mean"
   ]
  },
  {
   "cell_type": "code",
   "execution_count": 133,
   "metadata": {},
   "outputs": [],
   "source": [
    "def get_feature_mtx(x,f_start):\n",
    "    #print(x[:,f_start:].shape)\n",
    "    mtx = enc.transform(x[:,f_start:]).toarray()\n",
    "    #print(mtx.shape)\n",
    "    data = np.concatenate([x[:,:f_start],mtx],axis=1)\n",
    "    return data"
   ]
  },
  {
   "cell_type": "code",
   "execution_count": 67,
   "metadata": {},
   "outputs": [],
   "source": [
    "def get_ts_matrix(df,input_sequence_length,target_sequence_length):\n",
    "    ############## get time series data #################\n",
    "    whole = input_sequence_length+target_sequence_length\n",
    "    TS_mean = []\n",
    "    X = df[:whole,0]\n",
    "    X = np.log1p(X)\n",
    "    ts_mean = X.mean()\n",
    "    TS_mean.append(ts_mean)\n",
    "    X = X/ts_mean\n",
    "    Y = df[:input_sequence_length,0]\n",
    "    \n",
    "    feature = df[:whole,1:]\n",
    "    # other_features = df[SR_FEATURE][:whole]\n",
    "    # feature = np.hstack([stable_features,other_features])\n",
    "    #Y_feature = np.hstack([df[ENC_COL][input_sequence_length:],df[SR_FEATURE][input_sequence_length:]])\n",
    "    return X,feature,Y,TS_mean\n",
    "\n",
    "def get_teaching_force(feature_col,encoder_input,decoder_output):\n",
    "    decoder_input_train = np.zeros((decoder_output.shape[0], decoder_output.shape[1],feature_col))\n",
    "    # decoder_output = \n",
    "    # X,feature,Y= get_ts_matrix(df,decoder_output.shape[0], decoder_output.shape[1])\n",
    "    #decode_input_train= np.zeros((20000,18,fea_len))\n",
    "    decoder_input_train[:,1:,:] = decoder_output[:,:-1,:]\n",
    "    decoder_input_train[:,0,:] = encoder_input[:,-1,:]\n",
    "    return decoder_input_train"
   ]
  },
  {
   "cell_type": "code",
   "execution_count": 118,
   "metadata": {},
   "outputs": [],
   "source": [
    "ss = TRAIN_FEATURE_DATA[10001][:,3:]"
   ]
  },
  {
   "cell_type": "code",
   "execution_count": 125,
   "metadata": {},
   "outputs": [],
   "source": [
    "FEATURE_LENGTH = get_feature_num(ss)-1"
   ]
  },
  {
   "cell_type": "code",
   "execution_count": 126,
   "metadata": {},
   "outputs": [
    {
     "data": {
      "text/plain": [
       "68"
      ]
     },
     "execution_count": 126,
     "metadata": {},
     "output_type": "execute_result"
    }
   ],
   "source": [
    "FEATURE_LENGTH"
   ]
  },
  {
   "cell_type": "code",
   "execution_count": 139,
   "metadata": {},
   "outputs": [],
   "source": [
    "from matplotlib import pyplot as plt\n",
    "import random\n",
    "\n",
    "batch_size = 128\n",
    "def data_generator(feature_list,sr_list,batch_size, steps_per_epoch,feature_num,\n",
    "                input_sequence_length, target_sequence_length,seed=43,steps=1):\n",
    "    whole_ts_length = input_sequence_length + target_sequence_length\n",
    "    \n",
    "    while True:\n",
    "        np.random.seed(seed)\n",
    "        for _ in range(steps_per_epoch):\n",
    "            # Number of batches of size batch_size produced by generator.\n",
    "            # start_index = 0\n",
    "            data = np.zeros((batch_size,whole_ts_length,feature_num))\n",
    "            \n",
    "            start_index_list = random.sample(range(0,len(feature_list)),batch_size)\n",
    "           \n",
    "            for batch_num in range(batch_size):\n",
    "                # sample_data = df[(df['LC']==lc_list[batch_num])&df['product']==product_list[batch_num]].sort_values(by=['week_begin'],ascending=True)\n",
    "                index_list = random.sample(range(0,len(feature_list)),batch_size)\n",
    "                # batch = df[start_index_list[batch_num]:start_index_list[batch_num]+whole_ts_length]\n",
    "                # print(index_list[batch_num])\n",
    "                x_whole,feature,y,ts_mean_list = get_batch_matrix(feature_list,sr_list,index_list[batch_num],\n",
    "                                                                  ENC_LENGTH,PRED_LENGTH)\n",
    "                # encode_feature,feature_dim = get_encode_mtx(feature[:,:len(ENC_COL)],feature[:,len(ENC_COL):])\n",
    "                # print(feature.shape)\n",
    "            \n",
    "                #print(data[0,:,0])\n",
    "                for i in range(whole_ts_length):\n",
    "                    data[batch_num,i,:] = feature[i]\n",
    "                data[batch_num,:,0] = x_whole\n",
    "                \n",
    "            \n",
    "            encoder_input = data[:,:input_sequence_length,:]\n",
    "            decoder_output = np.expand_dims(data[:,input_sequence_length:,0],axis=2)\n",
    "            '''\n",
    "            The output of the generator must be ([encoder_input, decoder_input], [decoder_output])\n",
    "            add teaching force to prepare data for training\n",
    "            '''\n",
    "            decoder_input = get_teaching_force(feature_num,encoder_input,\n",
    "                                               data[:,input_sequence_length:,:])\n",
    "                                                                        \n",
    "            train_input = np.concatenate([encoder_input, decoder_input], axis=1)\n",
    "            \n",
    "            yield (train_input, decoder_output)"
   ]
  },
  {
   "cell_type": "code",
   "execution_count": 356,
   "metadata": {},
   "outputs": [],
   "source": [
    "from keras.models import Model\n",
    "from keras.layers import Input, Conv1D, Dense, Dropout, Lambda, concatenate,Activation,BatchNormalization,SpatialDropout1D\n",
    "from keras.optimizers import Adam,rmsprop\n",
    "\n",
    "# convolutional layer parameters\n",
    "n_filters = 32 \n",
    "filter_width = 2\n",
    "dilation_rates = [2**i for i in range(9)] \n",
    "epochs = 200\n",
    "batch_size = 128\n",
    "val_batch_size = 64\n",
    "steps_per_epoch = 500"
   ]
  },
  {
   "cell_type": "code",
   "execution_count": 128,
   "metadata": {},
   "outputs": [],
   "source": [
    "# define an input history series and pass it through a stack of dilated causal convolutions. \n",
    "history_seq = Input(shape=(None, FEATURE_LENGTH))\n",
    "x = history_seq\n",
    "\n",
    "for dilation_rate in dilation_rates:\n",
    "    x = Conv1D(filters=n_filters,\n",
    "               kernel_size=filter_width, \n",
    "               padding='causal',\n",
    "               dilation_rate=dilation_rate)(x)"
   ]
  },
  {
   "cell_type": "code",
   "execution_count": 129,
   "metadata": {},
   "outputs": [],
   "source": [
    "x = Dense(128, activation='relu')(x)\n",
    "x = Dropout(.2)(x)\n",
    "x = Dense(1)(x)\n",
    "\n",
    "# extract the last 18 time steps as the training target\n",
    "def slice(x, PRED_LENGTH):\n",
    "    return x[:,-PRED_LENGTH:,:]"
   ]
  },
  {
   "cell_type": "code",
   "execution_count": 130,
   "metadata": {},
   "outputs": [],
   "source": [
    "pred_seq_train = Lambda(slice, arguments={'PRED_LENGTH':18})(x)\n",
    "\n",
    "model = Model(history_seq, pred_seq_train)"
   ]
  },
  {
   "cell_type": "code",
   "execution_count": 131,
   "metadata": {},
   "outputs": [
    {
     "name": "stdout",
     "output_type": "stream",
     "text": [
      "_________________________________________________________________\n",
      "Layer (type)                 Output Shape              Param #   \n",
      "=================================================================\n",
      "input_2 (InputLayer)         (None, None, 68)          0         \n",
      "_________________________________________________________________\n",
      "conv1d_10 (Conv1D)           (None, None, 32)          4384      \n",
      "_________________________________________________________________\n",
      "conv1d_11 (Conv1D)           (None, None, 32)          2080      \n",
      "_________________________________________________________________\n",
      "conv1d_12 (Conv1D)           (None, None, 32)          2080      \n",
      "_________________________________________________________________\n",
      "conv1d_13 (Conv1D)           (None, None, 32)          2080      \n",
      "_________________________________________________________________\n",
      "conv1d_14 (Conv1D)           (None, None, 32)          2080      \n",
      "_________________________________________________________________\n",
      "conv1d_15 (Conv1D)           (None, None, 32)          2080      \n",
      "_________________________________________________________________\n",
      "conv1d_16 (Conv1D)           (None, None, 32)          2080      \n",
      "_________________________________________________________________\n",
      "conv1d_17 (Conv1D)           (None, None, 32)          2080      \n",
      "_________________________________________________________________\n",
      "conv1d_18 (Conv1D)           (None, None, 32)          2080      \n",
      "_________________________________________________________________\n",
      "dense_3 (Dense)              (None, None, 128)         4224      \n",
      "_________________________________________________________________\n",
      "dropout_2 (Dropout)          (None, None, 128)         0         \n",
      "_________________________________________________________________\n",
      "dense_4 (Dense)              (None, None, 1)           129       \n",
      "_________________________________________________________________\n",
      "lambda_2 (Lambda)            (None, None, 1)           0         \n",
      "=================================================================\n",
      "Total params: 25,377\n",
      "Trainable params: 25,377\n",
      "Non-trainable params: 0\n",
      "_________________________________________________________________\n"
     ]
    }
   ],
   "source": [
    "model.summary()"
   ]
  },
  {
   "cell_type": "code",
   "execution_count": 363,
   "metadata": {
    "scrolled": false
   },
   "outputs": [
    {
     "name": "stderr",
     "output_type": "stream",
     "text": [
      "/usr/local/lib/python3.5/dist-packages/keras/callbacks.py:999: UserWarning: `epsilon` argument is deprecated and will be removed, use `min_delta` instead.\n",
      "  warnings.warn('`epsilon` argument is deprecated and '\n"
     ]
    },
    {
     "name": "stdout",
     "output_type": "stream",
     "text": [
      "Epoch 1/200\n",
      "500/500 [==============================] - 131s 263ms/step - loss: 0.9995 - val_loss: 0.2270\n",
      "Epoch 2/200\n",
      "500/500 [==============================] - 125s 250ms/step - loss: 0.2191 - val_loss: 0.2167\n",
      "Epoch 3/200\n",
      "500/500 [==============================] - 124s 249ms/step - loss: 0.2146 - val_loss: 0.2204\n",
      "Epoch 4/200\n",
      "500/500 [==============================] - 126s 251ms/step - loss: 0.2091 - val_loss: 0.1856\n",
      "Epoch 5/200\n",
      "500/500 [==============================] - 123s 246ms/step - loss: 0.1611 - val_loss: 0.1478\n",
      "Epoch 6/200\n",
      "500/500 [==============================] - 124s 248ms/step - loss: 0.1424 - val_loss: 0.1232\n",
      "Epoch 7/200\n",
      "500/500 [==============================] - 126s 252ms/step - loss: 0.1334 - val_loss: 0.1174\n",
      "Epoch 8/200\n",
      "500/500 [==============================] - 126s 253ms/step - loss: 0.1280 - val_loss: 0.1459\n",
      "Epoch 9/200\n",
      "500/500 [==============================] - 126s 251ms/step - loss: 0.1243 - val_loss: 0.1190\n",
      "Epoch 10/200\n",
      "500/500 [==============================] - 125s 251ms/step - loss: 0.1213 - val_loss: 0.0978\n",
      "Epoch 11/200\n",
      "500/500 [==============================] - 124s 249ms/step - loss: 0.1198 - val_loss: 0.1096\n",
      "Epoch 12/200\n",
      "500/500 [==============================] - 123s 246ms/step - loss: 0.1149 - val_loss: 0.1021\n",
      "Epoch 13/200\n",
      "500/500 [==============================] - 126s 252ms/step - loss: 0.1134 - val_loss: 0.0965\n",
      "Epoch 14/200\n",
      "500/500 [==============================] - 126s 253ms/step - loss: 0.1120 - val_loss: 0.1017\n",
      "Epoch 15/200\n",
      "120/500 [======>.......................] - ETA: 1:23 - loss: 0.1106"
     ]
    },
    {
     "name": "stderr",
     "output_type": "stream",
     "text": [
      "IOPub message rate exceeded.\n",
      "The notebook server will temporarily stop sending output\n",
      "to the client in order to avoid crashing it.\n",
      "To change this limit, set the config variable\n",
      "`--NotebookApp.iopub_msg_rate_limit`.\n",
      "\n",
      "Current values:\n",
      "NotebookApp.iopub_msg_rate_limit=1000.0 (msgs/sec)\n",
      "NotebookApp.rate_limit_window=3.0 (secs)\n",
      "\n"
     ]
    },
    {
     "name": "stdout",
     "output_type": "stream",
     "text": [
      "500/500 [==============================] - 125s 251ms/step - loss: 0.1072 - val_loss: 0.0998\n",
      "Epoch 18/200\n",
      "500/500 [==============================] - 124s 249ms/step - loss: 0.1086 - val_loss: 0.1065\n",
      "Epoch 19/200\n",
      "500/500 [==============================] - 125s 251ms/step - loss: 0.1071 - val_loss: 0.1031\n",
      "Epoch 20/200\n",
      "500/500 [==============================] - 124s 249ms/step - loss: 0.1061 - val_loss: 0.1227\n",
      "Epoch 21/200\n",
      "500/500 [==============================] - 125s 251ms/step - loss: 0.1041 - val_loss: 0.1073\n",
      "Epoch 22/200\n",
      "500/500 [==============================] - 125s 250ms/step - loss: 0.1052 - val_loss: 0.0959\n",
      "Epoch 23/200\n",
      "500/500 [==============================] - 124s 249ms/step - loss: 0.1053 - val_loss: 0.0974\n",
      "Epoch 24/200\n",
      "500/500 [==============================] - 124s 248ms/step - loss: 0.1039 - val_loss: 0.1130\n",
      "Epoch 25/200\n",
      "500/500 [==============================] - 125s 251ms/step - loss: 0.1028 - val_loss: 0.1012\n",
      "Epoch 26/200\n",
      "252/500 [==============>...............] - ETA: 54s - loss: 0.1031"
     ]
    },
    {
     "name": "stderr",
     "output_type": "stream",
     "text": [
      "IOPub message rate exceeded.\n",
      "The notebook server will temporarily stop sending output\n",
      "to the client in order to avoid crashing it.\n",
      "To change this limit, set the config variable\n",
      "`--NotebookApp.iopub_msg_rate_limit`.\n",
      "\n",
      "Current values:\n",
      "NotebookApp.iopub_msg_rate_limit=1000.0 (msgs/sec)\n",
      "NotebookApp.rate_limit_window=3.0 (secs)\n",
      "\n"
     ]
    },
    {
     "name": "stdout",
     "output_type": "stream",
     "text": [
      "500/500 [==============================] - 122s 244ms/step - loss: 0.1023 - val_loss: 0.1118\n",
      "Epoch 29/200\n",
      "500/500 [==============================] - 123s 246ms/step - loss: 0.1015 - val_loss: 0.1314\n",
      "Epoch 30/200\n",
      "500/500 [==============================] - 124s 248ms/step - loss: 0.1012 - val_loss: 0.1134\n",
      "Epoch 31/200\n",
      "500/500 [==============================] - 122s 243ms/step - loss: 0.1014 - val_loss: 0.1044\n",
      "Epoch 32/200\n",
      "500/500 [==============================] - 124s 249ms/step - loss: 0.1001 - val_loss: 0.1247\n",
      "Epoch 33/200\n",
      "500/500 [==============================] - 123s 246ms/step - loss: 0.1003 - val_loss: 0.1073\n",
      "Epoch 34/200\n",
      "500/500 [==============================] - 123s 246ms/step - loss: 0.0998 - val_loss: 0.1046\n",
      "Epoch 35/200\n",
      "500/500 [==============================] - 122s 244ms/step - loss: 0.0991 - val_loss: 0.1012\n",
      "Epoch 36/200\n",
      "500/500 [==============================] - 123s 245ms/step - loss: 0.1008 - val_loss: 0.1030\n",
      "Epoch 37/200\n",
      "500/500 [==============================] - 126s 251ms/step - loss: 0.0995 - val_loss: 0.1432\n",
      "Epoch 38/200\n",
      "500/500 [==============================] - 125s 250ms/step - loss: 0.0991 - val_loss: 0.1113\n",
      "Epoch 39/200\n",
      "294/500 [================>.............] - ETA: 46s - loss: 0.0994"
     ]
    },
    {
     "name": "stderr",
     "output_type": "stream",
     "text": [
      "IOPub message rate exceeded.\n",
      "The notebook server will temporarily stop sending output\n",
      "to the client in order to avoid crashing it.\n",
      "To change this limit, set the config variable\n",
      "`--NotebookApp.iopub_msg_rate_limit`.\n",
      "\n",
      "Current values:\n",
      "NotebookApp.iopub_msg_rate_limit=1000.0 (msgs/sec)\n",
      "NotebookApp.rate_limit_window=3.0 (secs)\n",
      "\n"
     ]
    },
    {
     "name": "stdout",
     "output_type": "stream",
     "text": [
      "500/500 [==============================] - 126s 252ms/step - loss: 0.0990 - val_loss: 0.1140\n",
      "Epoch 42/200\n",
      "500/500 [==============================] - 124s 248ms/step - loss: 0.0979 - val_loss: 0.1120\n",
      "Epoch 43/200\n",
      "500/500 [==============================] - 122s 245ms/step - loss: 0.0994 - val_loss: 0.1075\n",
      "Epoch 44/200\n",
      "500/500 [==============================] - 123s 247ms/step - loss: 0.0990 - val_loss: 0.1144\n",
      "Epoch 45/200\n",
      "500/500 [==============================] - 123s 245ms/step - loss: 0.0986 - val_loss: 0.1074\n",
      "Epoch 46/200\n",
      "500/500 [==============================] - 124s 248ms/step - loss: 0.0975 - val_loss: 0.1209\n",
      "Epoch 47/200\n",
      "334/500 [===================>..........] - ETA: 37s - loss: 0.0983"
     ]
    },
    {
     "name": "stderr",
     "output_type": "stream",
     "text": [
      "IOPub message rate exceeded.\n",
      "The notebook server will temporarily stop sending output\n",
      "to the client in order to avoid crashing it.\n",
      "To change this limit, set the config variable\n",
      "`--NotebookApp.iopub_msg_rate_limit`.\n",
      "\n",
      "Current values:\n",
      "NotebookApp.iopub_msg_rate_limit=1000.0 (msgs/sec)\n",
      "NotebookApp.rate_limit_window=3.0 (secs)\n",
      "\n"
     ]
    },
    {
     "name": "stdout",
     "output_type": "stream",
     "text": [
      "500/500 [==============================] - 122s 245ms/step - loss: 0.0975 - val_loss: 0.1081\n",
      "Epoch 50/200\n",
      "500/500 [==============================] - 122s 244ms/step - loss: 0.0985 - val_loss: 0.1336\n",
      "Epoch 51/200\n",
      "500/500 [==============================] - 122s 243ms/step - loss: 0.0965 - val_loss: 0.1059\n",
      "Epoch 52/200\n",
      "500/500 [==============================] - 125s 250ms/step - loss: 0.0976 - val_loss: 0.1119\n",
      "Epoch 53/200\n",
      "500/500 [==============================] - 125s 249ms/step - loss: 0.0970 - val_loss: 0.1078\n",
      "Epoch 54/200\n",
      "500/500 [==============================] - 126s 252ms/step - loss: 0.0972 - val_loss: 0.1036\n",
      "Epoch 55/200\n",
      "500/500 [==============================] - 124s 248ms/step - loss: 0.0977 - val_loss: 0.1056\n",
      "Epoch 56/200\n",
      "500/500 [==============================] - 126s 251ms/step - loss: 0.0974 - val_loss: 0.1114\n",
      "Epoch 57/200\n",
      "105/500 [=====>........................] - ETA: 1:24 - loss: 0.0955"
     ]
    },
    {
     "name": "stderr",
     "output_type": "stream",
     "text": [
      "IOPub message rate exceeded.\n",
      "The notebook server will temporarily stop sending output\n",
      "to the client in order to avoid crashing it.\n",
      "To change this limit, set the config variable\n",
      "`--NotebookApp.iopub_msg_rate_limit`.\n",
      "\n",
      "Current values:\n",
      "NotebookApp.iopub_msg_rate_limit=1000.0 (msgs/sec)\n",
      "NotebookApp.rate_limit_window=3.0 (secs)\n",
      "\n"
     ]
    },
    {
     "name": "stdout",
     "output_type": "stream",
     "text": [
      "500/500 [==============================] - 126s 252ms/step - loss: 0.0962 - val_loss: 0.1068\n",
      "Epoch 60/200\n",
      "500/500 [==============================] - 126s 251ms/step - loss: 0.0963 - val_loss: 0.1262\n",
      "Epoch 61/200\n",
      "500/500 [==============================] - 125s 250ms/step - loss: 0.0971 - val_loss: 0.1097\n",
      "Epoch 62/200\n",
      "500/500 [==============================] - 124s 247ms/step - loss: 0.0977 - val_loss: 0.1102\n",
      "Epoch 63/200\n",
      "500/500 [==============================] - 126s 252ms/step - loss: 0.0961 - val_loss: 0.1054\n",
      "Epoch 64/200\n",
      "500/500 [==============================] - 127s 253ms/step - loss: 0.0955 - val_loss: 0.1032\n",
      "Epoch 65/200\n",
      "120/500 [======>.......................] - ETA: 1:21 - loss: 0.0965"
     ]
    },
    {
     "name": "stderr",
     "output_type": "stream",
     "text": [
      "IOPub message rate exceeded.\n",
      "The notebook server will temporarily stop sending output\n",
      "to the client in order to avoid crashing it.\n",
      "To change this limit, set the config variable\n",
      "`--NotebookApp.iopub_msg_rate_limit`.\n",
      "\n",
      "Current values:\n",
      "NotebookApp.iopub_msg_rate_limit=1000.0 (msgs/sec)\n",
      "NotebookApp.rate_limit_window=3.0 (secs)\n",
      "\n"
     ]
    },
    {
     "name": "stdout",
     "output_type": "stream",
     "text": [
      "500/500 [==============================] - 125s 251ms/step - loss: 0.0956 - val_loss: 0.1051\n",
      "Epoch 68/200\n",
      "500/500 [==============================] - 125s 251ms/step - loss: 0.0960 - val_loss: 0.1085\n",
      "Epoch 69/200\n",
      "500/500 [==============================] - 125s 250ms/step - loss: 0.0953 - val_loss: 0.1047\n",
      "Epoch 70/200\n",
      "500/500 [==============================] - 126s 252ms/step - loss: 0.0959 - val_loss: 0.1103\n",
      "Epoch 71/200\n",
      "500/500 [==============================] - 124s 249ms/step - loss: 0.0950 - val_loss: 0.1078\n",
      "Epoch 72/200\n",
      "500/500 [==============================] - 123s 246ms/step - loss: 0.0958 - val_loss: 0.1004\n",
      "Epoch 73/200\n",
      "500/500 [==============================] - 126s 253ms/step - loss: 0.0955 - val_loss: 0.1268\n",
      "Epoch 74/200\n",
      "500/500 [==============================] - 125s 249ms/step - loss: 0.0962 - val_loss: 0.1284\n",
      "Epoch 75/200\n",
      "500/500 [==============================] - 125s 251ms/step - loss: 0.0941 - val_loss: 0.1040\n",
      "Epoch 76/200\n",
      "500/500 [==============================] - 125s 250ms/step - loss: 0.0948 - val_loss: 0.1112\n",
      "Epoch 77/200\n",
      "500/500 [==============================] - 124s 249ms/step - loss: 0.0946 - val_loss: 0.1199\n",
      "Epoch 78/200\n",
      " 82/500 [===>..........................] - ETA: 1:26 - loss: 0.0931"
     ]
    },
    {
     "name": "stderr",
     "output_type": "stream",
     "text": [
      "IOPub message rate exceeded.\n",
      "The notebook server will temporarily stop sending output\n",
      "to the client in order to avoid crashing it.\n",
      "To change this limit, set the config variable\n",
      "`--NotebookApp.iopub_msg_rate_limit`.\n",
      "\n",
      "Current values:\n",
      "NotebookApp.iopub_msg_rate_limit=1000.0 (msgs/sec)\n",
      "NotebookApp.rate_limit_window=3.0 (secs)\n",
      "\n"
     ]
    },
    {
     "name": "stdout",
     "output_type": "stream",
     "text": [
      "500/500 [==============================] - 126s 251ms/step - loss: 0.0949 - val_loss: 0.1093\n",
      "Epoch 81/200\n",
      "500/500 [==============================] - 124s 249ms/step - loss: 0.0944 - val_loss: 0.1275\n",
      "Epoch 82/200\n",
      "500/500 [==============================] - 124s 247ms/step - loss: 0.0941 - val_loss: 0.1186\n",
      "Epoch 83/200\n",
      "500/500 [==============================] - 124s 249ms/step - loss: 0.0941 - val_loss: 0.1101\n",
      "Epoch 84/200\n",
      "500/500 [==============================] - 123s 246ms/step - loss: 0.0939 - val_loss: 0.1090\n",
      "Epoch 85/200\n",
      "500/500 [==============================] - 122s 244ms/step - loss: 0.0947 - val_loss: 0.1129\n",
      "Epoch 86/200\n",
      "108/500 [=====>........................] - ETA: 1:24 - loss: 0.0953"
     ]
    },
    {
     "name": "stderr",
     "output_type": "stream",
     "text": [
      "IOPub message rate exceeded.\n",
      "The notebook server will temporarily stop sending output\n",
      "to the client in order to avoid crashing it.\n",
      "To change this limit, set the config variable\n",
      "`--NotebookApp.iopub_msg_rate_limit`.\n",
      "\n",
      "Current values:\n",
      "NotebookApp.iopub_msg_rate_limit=1000.0 (msgs/sec)\n",
      "NotebookApp.rate_limit_window=3.0 (secs)\n",
      "\n"
     ]
    },
    {
     "name": "stdout",
     "output_type": "stream",
     "text": [
      "500/500 [==============================] - 122s 245ms/step - loss: 0.0949 - val_loss: 0.1212\n",
      "Epoch 89/200\n",
      "500/500 [==============================] - 125s 249ms/step - loss: 0.0933 - val_loss: 0.1183\n",
      "Epoch 90/200\n",
      "500/500 [==============================] - 127s 253ms/step - loss: 0.0945 - val_loss: 0.1273\n",
      "Epoch 91/200\n",
      "500/500 [==============================] - 124s 248ms/step - loss: 0.0935 - val_loss: 0.1128\n",
      "Epoch 92/200\n",
      "500/500 [==============================] - 128s 255ms/step - loss: 0.0942 - val_loss: 0.1102\n",
      "Epoch 93/200\n",
      "500/500 [==============================] - 126s 251ms/step - loss: 0.0924 - val_loss: 0.1056\n",
      "Epoch 94/200\n",
      "137/500 [=======>......................] - ETA: 1:18 - loss: 0.0949"
     ]
    },
    {
     "name": "stderr",
     "output_type": "stream",
     "text": [
      "IOPub message rate exceeded.\n",
      "The notebook server will temporarily stop sending output\n",
      "to the client in order to avoid crashing it.\n",
      "To change this limit, set the config variable\n",
      "`--NotebookApp.iopub_msg_rate_limit`.\n",
      "\n",
      "Current values:\n",
      "NotebookApp.iopub_msg_rate_limit=1000.0 (msgs/sec)\n",
      "NotebookApp.rate_limit_window=3.0 (secs)\n",
      "\n"
     ]
    },
    {
     "name": "stdout",
     "output_type": "stream",
     "text": [
      "500/500 [==============================] - 122s 244ms/step - loss: 0.0938 - val_loss: 0.1124\n",
      "Epoch 97/200\n",
      "500/500 [==============================] - 122s 244ms/step - loss: 0.0945 - val_loss: 0.1074\n",
      "Epoch 98/200\n",
      "500/500 [==============================] - 122s 244ms/step - loss: 0.0950 - val_loss: 0.1124\n",
      "Epoch 99/200\n",
      "500/500 [==============================] - 122s 245ms/step - loss: 0.0930 - val_loss: 0.0999\n",
      "Epoch 100/200\n",
      "500/500 [==============================] - 123s 245ms/step - loss: 0.0933 - val_loss: 0.1065\n",
      "Epoch 101/200\n",
      "500/500 [==============================] - 122s 244ms/step - loss: 0.0945 - val_loss: 0.1050\n",
      "Epoch 102/200\n",
      "500/500 [==============================] - 122s 243ms/step - loss: 0.0939 - val_loss: 0.1266\n",
      "Epoch 103/200\n",
      "500/500 [==============================] - 126s 252ms/step - loss: 0.0930 - val_loss: 0.1199\n",
      "Epoch 104/200\n",
      "500/500 [==============================] - 126s 253ms/step - loss: 0.0927 - val_loss: 0.1060\n",
      "Epoch 105/200\n",
      "187/500 [==========>...................] - ETA: 1:08 - loss: 0.0941"
     ]
    },
    {
     "name": "stderr",
     "output_type": "stream",
     "text": [
      "IOPub message rate exceeded.\n",
      "The notebook server will temporarily stop sending output\n",
      "to the client in order to avoid crashing it.\n",
      "To change this limit, set the config variable\n",
      "`--NotebookApp.iopub_msg_rate_limit`.\n",
      "\n",
      "Current values:\n",
      "NotebookApp.iopub_msg_rate_limit=1000.0 (msgs/sec)\n",
      "NotebookApp.rate_limit_window=3.0 (secs)\n",
      "\n"
     ]
    },
    {
     "name": "stdout",
     "output_type": "stream",
     "text": [
      "500/500 [==============================] - 124s 248ms/step - loss: 0.0928 - val_loss: 0.1058\n",
      "Epoch 108/200\n",
      "500/500 [==============================] - 127s 254ms/step - loss: 0.0933 - val_loss: 0.1004\n",
      "Epoch 109/200\n",
      "500/500 [==============================] - 125s 250ms/step - loss: 0.0931 - val_loss: 0.1093\n",
      "Epoch 110/200\n",
      "500/500 [==============================] - 126s 252ms/step - loss: 0.0929 - val_loss: 0.1174\n",
      "Epoch 111/200\n",
      "500/500 [==============================] - 124s 247ms/step - loss: 0.0937 - val_loss: 0.1073\n",
      "Epoch 112/200\n",
      "500/500 [==============================] - 127s 254ms/step - loss: 0.0939 - val_loss: 0.1121\n",
      "Epoch 113/200\n",
      "214/500 [===========>..................] - ETA: 1:04 - loss: 0.0916"
     ]
    },
    {
     "name": "stderr",
     "output_type": "stream",
     "text": [
      "IOPub message rate exceeded.\n",
      "The notebook server will temporarily stop sending output\n",
      "to the client in order to avoid crashing it.\n",
      "To change this limit, set the config variable\n",
      "`--NotebookApp.iopub_msg_rate_limit`.\n",
      "\n",
      "Current values:\n",
      "NotebookApp.iopub_msg_rate_limit=1000.0 (msgs/sec)\n",
      "NotebookApp.rate_limit_window=3.0 (secs)\n",
      "\n"
     ]
    },
    {
     "name": "stdout",
     "output_type": "stream",
     "text": [
      "500/500 [==============================] - 126s 253ms/step - loss: 0.0935 - val_loss: 0.1100\n",
      "Epoch 116/200\n",
      "500/500 [==============================] - 126s 251ms/step - loss: 0.0929 - val_loss: 0.1310\n",
      "Epoch 117/200\n",
      "500/500 [==============================] - 126s 253ms/step - loss: 0.0937 - val_loss: 0.1038\n",
      "Epoch 118/200\n",
      "500/500 [==============================] - 126s 252ms/step - loss: 0.0928 - val_loss: 0.1091\n",
      "Epoch 119/200\n",
      "500/500 [==============================] - 125s 250ms/step - loss: 0.0931 - val_loss: 0.1329\n",
      "Epoch 120/200\n",
      "500/500 [==============================] - 125s 249ms/step - loss: 0.0919 - val_loss: 0.1120\n",
      "Epoch 121/200\n",
      "246/500 [=============>................] - ETA: 57s - loss: 0.0923"
     ]
    },
    {
     "name": "stderr",
     "output_type": "stream",
     "text": [
      "IOPub message rate exceeded.\n",
      "The notebook server will temporarily stop sending output\n",
      "to the client in order to avoid crashing it.\n",
      "To change this limit, set the config variable\n",
      "`--NotebookApp.iopub_msg_rate_limit`.\n",
      "\n",
      "Current values:\n",
      "NotebookApp.iopub_msg_rate_limit=1000.0 (msgs/sec)\n",
      "NotebookApp.rate_limit_window=3.0 (secs)\n",
      "\n"
     ]
    },
    {
     "name": "stdout",
     "output_type": "stream",
     "text": [
      "500/500 [==============================] - 122s 243ms/step - loss: 0.0929 - val_loss: 0.1210\n",
      "Epoch 124/200\n",
      "500/500 [==============================] - 123s 246ms/step - loss: 0.0932 - val_loss: 0.0994\n",
      "Epoch 125/200\n",
      "500/500 [==============================] - 123s 246ms/step - loss: 0.0937 - val_loss: 0.1049\n",
      "Epoch 126/200\n",
      "500/500 [==============================] - 122s 244ms/step - loss: 0.0938 - val_loss: 0.1211\n",
      "Epoch 127/200\n",
      "500/500 [==============================] - 123s 246ms/step - loss: 0.0933 - val_loss: 0.1193\n",
      "Epoch 128/200\n",
      "500/500 [==============================] - 125s 250ms/step - loss: 0.0914 - val_loss: 0.1072\n",
      "Epoch 129/200\n",
      "278/500 [===============>..............] - ETA: 48s - loss: 0.0930"
     ]
    },
    {
     "name": "stderr",
     "output_type": "stream",
     "text": [
      "IOPub message rate exceeded.\n",
      "The notebook server will temporarily stop sending output\n",
      "to the client in order to avoid crashing it.\n",
      "To change this limit, set the config variable\n",
      "`--NotebookApp.iopub_msg_rate_limit`.\n",
      "\n",
      "Current values:\n",
      "NotebookApp.iopub_msg_rate_limit=1000.0 (msgs/sec)\n",
      "NotebookApp.rate_limit_window=3.0 (secs)\n",
      "\n"
     ]
    },
    {
     "name": "stdout",
     "output_type": "stream",
     "text": [
      "500/500 [==============================] - 122s 245ms/step - loss: 0.0928 - val_loss: 0.1183\n",
      "Epoch 132/200\n",
      "500/500 [==============================] - 123s 246ms/step - loss: 0.0925 - val_loss: 0.1135\n",
      "Epoch 133/200\n",
      "500/500 [==============================] - 122s 243ms/step - loss: 0.0927 - val_loss: 0.1069\n",
      "Epoch 134/200\n",
      "500/500 [==============================] - 122s 244ms/step - loss: 0.0923 - val_loss: 0.1224\n",
      "Epoch 135/200\n",
      "500/500 [==============================] - 124s 248ms/step - loss: 0.0920 - val_loss: 0.1178\n",
      "Epoch 136/200\n",
      "500/500 [==============================] - 125s 250ms/step - loss: 0.0917 - val_loss: 0.1104\n",
      "Epoch 137/200\n",
      "500/500 [==============================] - 126s 253ms/step - loss: 0.0918 - val_loss: 0.1139\n",
      "Epoch 138/200\n",
      "500/500 [==============================] - 124s 249ms/step - loss: 0.0933 - val_loss: 0.1057\n",
      "Epoch 139/200\n",
      "500/500 [==============================] - 125s 250ms/step - loss: 0.0924 - val_loss: 0.1201\n",
      "Epoch 140/200\n",
      "226/500 [============>.................] - ETA: 1:00 - loss: 0.0920"
     ]
    },
    {
     "name": "stderr",
     "output_type": "stream",
     "text": [
      "IOPub message rate exceeded.\n",
      "The notebook server will temporarily stop sending output\n",
      "to the client in order to avoid crashing it.\n",
      "To change this limit, set the config variable\n",
      "`--NotebookApp.iopub_msg_rate_limit`.\n",
      "\n",
      "Current values:\n",
      "NotebookApp.iopub_msg_rate_limit=1000.0 (msgs/sec)\n",
      "NotebookApp.rate_limit_window=3.0 (secs)\n",
      "\n"
     ]
    },
    {
     "name": "stdout",
     "output_type": "stream",
     "text": [
      "500/500 [==============================] - 122s 245ms/step - loss: 0.0927 - val_loss: 0.1113\n",
      "Epoch 143/200\n",
      "500/500 [==============================] - 122s 243ms/step - loss: 0.0922 - val_loss: 0.1140\n",
      "Epoch 144/200\n",
      "500/500 [==============================] - 129s 258ms/step - loss: 0.0928 - val_loss: 0.1189\n",
      "Epoch 145/200\n",
      "500/500 [==============================] - 126s 253ms/step - loss: 0.0928 - val_loss: 0.1079\n",
      "Epoch 146/200\n",
      "500/500 [==============================] - 126s 251ms/step - loss: 0.0920 - val_loss: 0.1107\n",
      "Epoch 147/200\n",
      "500/500 [==============================] - 124s 248ms/step - loss: 0.0919 - val_loss: 0.1079\n",
      "Epoch 148/200\n",
      "230/500 [============>.................] - ETA: 1:00 - loss: 0.0927"
     ]
    },
    {
     "name": "stderr",
     "output_type": "stream",
     "text": [
      "IOPub message rate exceeded.\n",
      "The notebook server will temporarily stop sending output\n",
      "to the client in order to avoid crashing it.\n",
      "To change this limit, set the config variable\n",
      "`--NotebookApp.iopub_msg_rate_limit`.\n",
      "\n",
      "Current values:\n",
      "NotebookApp.iopub_msg_rate_limit=1000.0 (msgs/sec)\n",
      "NotebookApp.rate_limit_window=3.0 (secs)\n",
      "\n"
     ]
    },
    {
     "name": "stdout",
     "output_type": "stream",
     "text": [
      "500/500 [==============================] - 125s 250ms/step - loss: 0.0921 - val_loss: 0.1165\n",
      "Epoch 151/200\n",
      "500/500 [==============================] - 125s 250ms/step - loss: 0.0927 - val_loss: 0.1086\n",
      "Epoch 152/200\n",
      "500/500 [==============================] - 125s 250ms/step - loss: 0.0928 - val_loss: 0.1102\n",
      "Epoch 153/200\n",
      "500/500 [==============================] - 124s 249ms/step - loss: 0.0923 - val_loss: 0.1064\n",
      "Epoch 154/200\n",
      "500/500 [==============================] - 124s 249ms/step - loss: 0.0921 - val_loss: 0.1135\n",
      "Epoch 155/200\n",
      "500/500 [==============================] - 126s 253ms/step - loss: 0.0918 - val_loss: 0.1217\n",
      "Epoch 156/200\n",
      "259/500 [==============>...............] - ETA: 53s - loss: 0.0924"
     ]
    },
    {
     "name": "stderr",
     "output_type": "stream",
     "text": [
      "IOPub message rate exceeded.\n",
      "The notebook server will temporarily stop sending output\n",
      "to the client in order to avoid crashing it.\n",
      "To change this limit, set the config variable\n",
      "`--NotebookApp.iopub_msg_rate_limit`.\n",
      "\n",
      "Current values:\n",
      "NotebookApp.iopub_msg_rate_limit=1000.0 (msgs/sec)\n",
      "NotebookApp.rate_limit_window=3.0 (secs)\n",
      "\n"
     ]
    },
    {
     "name": "stdout",
     "output_type": "stream",
     "text": [
      "500/500 [==============================] - 123s 247ms/step - loss: 0.0916 - val_loss: 0.1106\n",
      "Epoch 159/200\n",
      "500/500 [==============================] - 123s 246ms/step - loss: 0.0915 - val_loss: 0.1085\n",
      "Epoch 160/200\n",
      "500/500 [==============================] - 124s 249ms/step - loss: 0.0916 - val_loss: 0.1270\n",
      "Epoch 161/200\n",
      "500/500 [==============================] - 122s 243ms/step - loss: 0.0926 - val_loss: 0.1151\n",
      "Epoch 162/200\n",
      "500/500 [==============================] - 121s 243ms/step - loss: 0.0932 - val_loss: 0.1205\n",
      "Epoch 163/200\n",
      "500/500 [==============================] - 125s 251ms/step - loss: 0.0922 - val_loss: 0.1148\n",
      "Epoch 164/200\n",
      "261/500 [==============>...............] - ETA: 53s - loss: 0.0912"
     ]
    },
    {
     "name": "stderr",
     "output_type": "stream",
     "text": [
      "IOPub message rate exceeded.\n",
      "The notebook server will temporarily stop sending output\n",
      "to the client in order to avoid crashing it.\n",
      "To change this limit, set the config variable\n",
      "`--NotebookApp.iopub_msg_rate_limit`.\n",
      "\n",
      "Current values:\n",
      "NotebookApp.iopub_msg_rate_limit=1000.0 (msgs/sec)\n",
      "NotebookApp.rate_limit_window=3.0 (secs)\n",
      "\n"
     ]
    },
    {
     "name": "stdout",
     "output_type": "stream",
     "text": [
      "500/500 [==============================] - 127s 254ms/step - loss: 0.0911 - val_loss: 0.1029\n",
      "Epoch 167/200\n",
      "500/500 [==============================] - 126s 252ms/step - loss: 0.0922 - val_loss: 0.1225\n",
      "Epoch 168/200\n",
      "500/500 [==============================] - 124s 249ms/step - loss: 0.0919 - val_loss: 0.1176\n",
      "Epoch 169/200\n",
      "500/500 [==============================] - 125s 251ms/step - loss: 0.0916 - val_loss: 0.1124\n",
      "Epoch 170/200\n",
      "500/500 [==============================] - 127s 255ms/step - loss: 0.0927 - val_loss: 0.1203\n",
      "Epoch 171/200\n",
      "500/500 [==============================] - 127s 253ms/step - loss: 0.0913 - val_loss: 0.1200\n",
      "Epoch 172/200\n",
      "257/500 [==============>...............] - ETA: 54s - loss: 0.0914"
     ]
    },
    {
     "name": "stderr",
     "output_type": "stream",
     "text": [
      "IOPub message rate exceeded.\n",
      "The notebook server will temporarily stop sending output\n",
      "to the client in order to avoid crashing it.\n",
      "To change this limit, set the config variable\n",
      "`--NotebookApp.iopub_msg_rate_limit`.\n",
      "\n",
      "Current values:\n",
      "NotebookApp.iopub_msg_rate_limit=1000.0 (msgs/sec)\n",
      "NotebookApp.rate_limit_window=3.0 (secs)\n",
      "\n"
     ]
    },
    {
     "name": "stdout",
     "output_type": "stream",
     "text": [
      "500/500 [==============================] - 125s 249ms/step - loss: 0.0924 - val_loss: 0.1054\n",
      "Epoch 175/200\n",
      "500/500 [==============================] - 127s 254ms/step - loss: 0.0915 - val_loss: 0.1354\n",
      "Epoch 176/200\n",
      "500/500 [==============================] - 125s 249ms/step - loss: 0.0932 - val_loss: 0.1151\n",
      "Epoch 177/200\n",
      "500/500 [==============================] - 122s 244ms/step - loss: 0.0924 - val_loss: 0.1237\n",
      "Epoch 178/200\n",
      "500/500 [==============================] - 123s 246ms/step - loss: 0.0916 - val_loss: 0.1232\n",
      "Epoch 179/200\n",
      "500/500 [==============================] - 122s 245ms/step - loss: 0.0918 - val_loss: 0.1256\n",
      "Epoch 180/200\n",
      "500/500 [==============================] - 125s 250ms/step - loss: 0.0901 - val_loss: 0.1069\n",
      "Epoch 181/200\n",
      "500/500 [==============================] - 123s 245ms/step - loss: 0.0916 - val_loss: 0.1121\n",
      "Epoch 182/200\n",
      "500/500 [==============================] - 125s 250ms/step - loss: 0.0917 - val_loss: 0.1221\n",
      "Epoch 183/200\n",
      "500/500 [==============================] - 121s 242ms/step - loss: 0.0908 - val_loss: 0.1144\n",
      "Epoch 184/200\n",
      " 93/500 [====>.........................] - ETA: 1:24 - loss: 0.0922"
     ]
    },
    {
     "name": "stderr",
     "output_type": "stream",
     "text": [
      "IOPub message rate exceeded.\n",
      "The notebook server will temporarily stop sending output\n",
      "to the client in order to avoid crashing it.\n",
      "To change this limit, set the config variable\n",
      "`--NotebookApp.iopub_msg_rate_limit`.\n",
      "\n",
      "Current values:\n",
      "NotebookApp.iopub_msg_rate_limit=1000.0 (msgs/sec)\n",
      "NotebookApp.rate_limit_window=3.0 (secs)\n",
      "\n"
     ]
    },
    {
     "name": "stdout",
     "output_type": "stream",
     "text": [
      "500/500 [==============================] - 123s 245ms/step - loss: 0.0914 - val_loss: 0.1093\n",
      "Epoch 187/200\n",
      "500/500 [==============================] - 122s 244ms/step - loss: 0.0927 - val_loss: 0.1140\n",
      "Epoch 188/200\n",
      "500/500 [==============================] - 122s 244ms/step - loss: 0.0921 - val_loss: 0.1059\n",
      "Epoch 189/200\n",
      "500/500 [==============================] - 123s 247ms/step - loss: 0.0915 - val_loss: 0.1218\n",
      "Epoch 190/200\n",
      "500/500 [==============================] - 121s 242ms/step - loss: 0.0911 - val_loss: 0.1091\n",
      "Epoch 191/200\n",
      "500/500 [==============================] - 125s 250ms/step - loss: 0.0897 - val_loss: 0.1175\n",
      "Epoch 192/200\n",
      "121/500 [======>.......................] - ETA: 1:21 - loss: 0.0902"
     ]
    },
    {
     "name": "stderr",
     "output_type": "stream",
     "text": [
      "IOPub message rate exceeded.\n",
      "The notebook server will temporarily stop sending output\n",
      "to the client in order to avoid crashing it.\n",
      "To change this limit, set the config variable\n",
      "`--NotebookApp.iopub_msg_rate_limit`.\n",
      "\n",
      "Current values:\n",
      "NotebookApp.iopub_msg_rate_limit=1000.0 (msgs/sec)\n",
      "NotebookApp.rate_limit_window=3.0 (secs)\n",
      "\n"
     ]
    },
    {
     "name": "stdout",
     "output_type": "stream",
     "text": [
      "500/500 [==============================] - 126s 251ms/step - loss: 0.0911 - val_loss: 0.1109\n",
      "Epoch 195/200\n",
      "500/500 [==============================] - 123s 246ms/step - loss: 0.0917 - val_loss: 0.1121\n",
      "Epoch 196/200\n",
      "500/500 [==============================] - 122s 244ms/step - loss: 0.0917 - val_loss: 0.1341\n",
      "Epoch 197/200\n",
      "500/500 [==============================] - 122s 245ms/step - loss: 0.0905 - val_loss: 0.1197\n",
      "Epoch 198/200\n",
      "500/500 [==============================] - 123s 245ms/step - loss: 0.0912 - val_loss: 0.1290\n",
      "Epoch 199/200\n",
      "500/500 [==============================] - 123s 245ms/step - loss: 0.0915 - val_loss: 0.1095\n",
      "Epoch 200/200\n",
      "114/500 [=====>........................] - ETA: 1:20 - loss: 0.0902"
     ]
    },
    {
     "name": "stderr",
     "output_type": "stream",
     "text": [
      "IOPub message rate exceeded.\n",
      "The notebook server will temporarily stop sending output\n",
      "to the client in order to avoid crashing it.\n",
      "To change this limit, set the config variable\n",
      "`--NotebookApp.iopub_msg_rate_limit`.\n",
      "\n",
      "Current values:\n",
      "NotebookApp.iopub_msg_rate_limit=1000.0 (msgs/sec)\n",
      "NotebookApp.rate_limit_window=3.0 (secs)\n",
      "\n"
     ]
    }
   ],
   "source": [
    "# lagging_force\n",
    "# fea_len = 576\n",
    "from keras import optimizers\n",
    "from keras.callbacks import EarlyStopping,ReduceLROnPlateau,LearningRateScheduler\n",
    "import keras.backend as kb\n",
    "#import CLR\n",
    "\n",
    "earlystopping = EarlyStopping(monitor='val_loss',\n",
    "                              min_delta=0,\n",
    "                              patience=20,\n",
    "                              verbose=1, mode='auto')\n",
    "lr_reducer = ReduceLROnPlateau(monitor='val_loss', factor=0.1, patience=20, \n",
    "    verbose=1, mode='auto', epsilon=None)\n",
    "'''\n",
    "# drop-cyclic lr schedule - DIY trainning period\n",
    "def step_decay(epochs):\n",
    "    initial_lr = 0.0005 \n",
    "    period = 15\n",
    "    drop = 0.5\n",
    "    lr = initial_lr*math.pow(drop, math.floor((1+epochs)/period))\n",
    "lr_scheduler = LearningRateScheduler(step_decay, verbose=1)\n",
    "lr_scheduler = CLR.CyclicLR(base_lr=0.0005, max_lr=0.002,\n",
    "                        step_size=200., mode='triangular2')\n",
    "'''\n",
    "callbacks = [earlystopping,lr_reducer]\n",
    "\n",
    "rmsprop = optimizers.RMSprop(lr=0.0005, rho=0.9, epsilon=None, decay=1e-9)\n",
    "d_model.compile(rmsprop, loss='mean_absolute_error')\n",
    "\n",
    "train_data_generator = data_generator(TRAIN_FEATURE_DATA,TRAIN_SR_DATA,batch_size=batch_size,\n",
    "                                   steps_per_epoch=steps_per_epoch,\n",
    "                                      feature_num = FEATURE_LENGTH,\n",
    "                                   input_sequence_length=ENC_LENGTH,\n",
    "                                   target_sequence_length=PRED_LENGTH,\n",
    "                                    seed=100)\n",
    "val_data_generator = data_generator(VAL_FEATURE_DATA,VAL_SR_DATA,batch_size=val_batch_size,\n",
    "                                   steps_per_epoch=steps_per_epoch,\n",
    "                                      feature_num = FEATURE_LENGTH,\n",
    "                                   input_sequence_length=ENC_LENGTH,\n",
    "                                   target_sequence_length=PRED_LENGTH,\n",
    "                                    seed=43)\n",
    "#kb.clear_session()\n",
    "history = d_model.fit_generator(train_data_generator, \n",
    "                    steps_per_epoch = steps_per_epoch,\n",
    "                    epochs=epochs,\n",
    "                    validation_data=val_data_generator,\n",
    "                             validation_steps=50)"
   ]
  },
  {
   "cell_type": "code",
   "execution_count": 286,
   "metadata": {},
   "outputs": [
    {
     "data": {
      "text/plain": [
       "<matplotlib.legend.Legend at 0x7f512f5ce470>"
      ]
     },
     "execution_count": 286,
     "metadata": {},
     "output_type": "execute_result"
    },
    {
     "data": {
      "image/png": "[encoded data removed]",
      "text/plain": [
       "<Figure size 432x288 with 1 Axes>"
      ]
     },
     "metadata": {},
     "output_type": "display_data"
    }
   ],
   "source": [
    "plt.plot(history.history['loss'])\n",
    "plt.plot(history.history['val_loss'])\n",
    "\n",
    "plt.xlabel('Epoch')\n",
    "plt.ylabel('Mean Absolute Error Loss')\n",
    "plt.title('Loss Over Time')\n",
    "plt.legend(['Train','Valid'])"
   ]
  },
  {
   "cell_type": "code",
   "execution_count": 289,
   "metadata": {},
   "outputs": [],
   "source": [
    "d_model.save('./base03.h5')\n",
    "d_model.save_weights('./base03_w.h5')"
   ]
  },
  {
   "cell_type": "code",
   "execution_count": 290,
   "metadata": {},
   "outputs": [],
   "source": [
    "from keras import models\n",
    "dd = models.load_model('./base02.h5')"
   ]
  },
  {
   "cell_type": "code",
   "execution_count": 291,
   "metadata": {},
   "outputs": [],
   "source": [
    "TEST_FEATURE_DATA,TEST_SR_DATA = get_ts_info(TEST)"
   ]
  },
  {
   "cell_type": "code",
   "execution_count": 292,
   "metadata": {},
   "outputs": [],
   "source": [
    "val_batch_size=64\n",
    "steps_per_epoch = 500\n",
    "test_data_generator = data_generator(TEST_FEATURE_DATA,TEST_SR_DATA,batch_size=val_batch_size,\n",
    "                                   steps_per_epoch=steps_per_epoch,\n",
    "                                      feature_num = FEATURE_LENGTH,\n",
    "                                   input_sequence_length=ENC_LENGTH,\n",
    "                                   target_sequence_length=PRED_LENGTH,\n",
    "                                    seed=100)"
   ]
  },
  {
   "cell_type": "code",
   "execution_count": 293,
   "metadata": {},
   "outputs": [
    {
     "name": "stdout",
     "output_type": "stream",
     "text": [
      "2000/2000 [==============================] - 220s 110ms/step\n"
     ]
    },
    {
     "data": {
      "text/plain": [
       "0.07494487369246781"
      ]
     },
     "execution_count": 293,
     "metadata": {},
     "output_type": "execute_result"
    }
   ],
   "source": [
    "dd.evaluate_generator(test_data_generator,steps=2000,verbose=1)"
   ]
  },
  {
   "cell_type": "code",
   "execution_count": 294,
   "metadata": {},
   "outputs": [],
   "source": [
    "def predict_sequence(my_model,datagen,pred_steps=18,sample_size=batch_size):\n",
    "    pred_seq = np.zeros((sample_size,pred_steps,1))\n",
    "    iterator = iter(datagen)\n",
    "    input_sequence = next(iterator)\n",
    "    target = input_sequence[1]\n",
    "    x = input_sequence[0]\n",
    "    for j in range(pred_steps):\n",
    "        last_pred_step = my_model.predict(x)[:,-1,0]\n",
    "        #print(last_pred_step.shape)\n",
    "        pred_seq[:,j,0] = last_pred_step\n",
    "        #print(input_sequence[0].shape)\n",
    "        last_step = np.zeros((sample_size,1,FEATURE_LENGTH))\n",
    "        last_step[:,0,:] = input_sequence[0][:,ENC_LENGTH+j,:]\n",
    "        last_step[:,0,0] = last_pred_step\n",
    "        input_ts = np.concatenate([input_sequence[0],last_step],axis=1)\n",
    "        #print(input_ts.shape)\n",
    "        x = input_ts\n",
    "    return pred_seq,target"
   ]
  },
  {
   "cell_type": "code",
   "execution_count": 299,
   "metadata": {},
   "outputs": [],
   "source": [
    "test_gen = data_generator(TEST_FEATURE_DATA[-1000:],TEST_SR_DATA[-1000:],batch_size=1000,feature_num = FEATURE_LENGTH,\n",
    "                          steps_per_epoch=steps_per_epoch,\n",
    "                                   input_sequence_length=ENC_LENGTH,\n",
    "                                   target_sequence_length=PRED_LENGTH,\n",
    "                                    seed=30)"
   ]
  },
  {
   "cell_type": "code",
   "execution_count": 309,
   "metadata": {},
   "outputs": [],
   "source": [
    "predict,target = predict_sequence(dd,test_gen,sample_size=1000)"
   ]
  },
  {
   "cell_type": "code",
   "execution_count": null,
   "metadata": {},
   "outputs": [],
   "source": [
    "####### Results Analysis ############"
   ]
  },
  {
   "cell_type": "code",
   "execution_count": 310,
   "metadata": {},
   "outputs": [],
   "source": [
    "def weighted_loss_summary(target,test,sample_size):\n",
    "    single_spot_mape = []\n",
    "    single_ts_mape= []\n",
    "    for i in range(sample_size):\n",
    "        ans,single_loss = cal_sample_weighted_loss(target,test,i)\n",
    "        single_spot_mape.append(ans)\n",
    "        single_ts_mape.append(single_loss)\n",
    "    return single_spot_mape,single_ts_mape"
   ]
  },
  {
   "cell_type": "code",
   "execution_count": 311,
   "metadata": {},
   "outputs": [],
   "source": [
    "def cal_sample_weighted_loss(target,pred,sample_ind):\n",
    "    y_real = target[sample_ind,:,0].reshape(-1,1)\n",
    "    y_pred = pred.reshape(-1,1)\n",
    "    ans = list(map(lambda x: abs(x[0]-x[1])/x[0],zip(y_real,y_pred)))\n",
    "    #loss = (y_real-y_pred)/y_real\n",
    "    loss_w = list(map(lambda x: abs(x[0]-x[1])*abs(x[0]),zip(y_real,y_pred)))\n",
    "    loss_sr = list(map(lambda x: x[0]**2, y_real))\n",
    "    loss_sum = sum(loss_w)/sum(loss_sr)\n",
    "    return ans,loss_sum"
   ]
  },
  {
   "cell_type": "code",
   "execution_count": 312,
   "metadata": {},
   "outputs": [],
   "source": [
    "ans_mape,weighted_mape = cal_sample_weighted_loss(target,predict,0)"
   ]
  },
  {
   "cell_type": "code",
   "execution_count": 313,
   "metadata": {},
   "outputs": [],
   "source": [
    "single_spot_mape,single_ts_mape = weighted_loss_summary(target,predict,1000)"
   ]
  },
  {
   "cell_type": "code",
   "execution_count": 314,
   "metadata": {},
   "outputs": [],
   "source": [
    "mean_spot_mape = np.mean(single_spot_mape)\n",
    "max_spot_mape = np.max(single_spot_mape)\n",
    "min_spot_mape = np.min(single_spot_mape)"
   ]
  },
  {
   "cell_type": "code",
   "execution_count": 315,
   "metadata": {},
   "outputs": [],
   "source": [
    "spot_weighted_mape = pd.DataFrame(single_spot_mape,columns=range(18))"
   ]
  },
  {
   "cell_type": "code",
   "execution_count": 316,
   "metadata": {},
   "outputs": [],
   "source": [
    "ts_mape_array = np.array(single_spot_mape)"
   ]
  },
  {
   "cell_type": "code",
   "execution_count": 317,
   "metadata": {},
   "outputs": [],
   "source": [
    "x = ts_mape_array.reshape((1000,18))\n",
    "xmean = x.mean(axis=1)\n",
    "xmax = x.max(axis=1)\n",
    "xmin = x.min(axis=1)"
   ]
  },
  {
   "cell_type": "code",
   "execution_count": 318,
   "metadata": {},
   "outputs": [],
   "source": [
    "mape_info = np.vstack((xmean,xmax))\n",
    "mape_info = np.vstack((mape_info,xmin))"
   ]
  },
  {
   "cell_type": "code",
   "execution_count": 319,
   "metadata": {},
   "outputs": [],
   "source": [
    "m = mape_info.transpose()"
   ]
  },
  {
   "cell_type": "code",
   "execution_count": 320,
   "metadata": {},
   "outputs": [],
   "source": [
    "mape_frame = pd.DataFrame(m,columns=['mean','max','min'])"
   ]
  },
  {
   "cell_type": "code",
   "execution_count": 321,
   "metadata": {},
   "outputs": [
    {
     "data": {
      "text/html": [
       "<div>\n",
       "<style scoped>\n",
       "    .dataframe tbody tr th:only-of-type {\n",
       "        vertical-align: middle;\n",
       "    }\n",
       "\n",
       "    .dataframe tbody tr th {\n",
       "        vertical-align: top;\n",
       "    }\n",
       "\n",
       "    .dataframe thead th {\n",
       "        text-align: right;\n",
       "    }\n",
       "</style>\n",
       "<table border=\"1\" class=\"dataframe\">\n",
       "  <thead>\n",
       "    <tr style=\"text-align: right;\">\n",
       "      <th></th>\n",
       "      <th>mean</th>\n",
       "      <th>max</th>\n",
       "      <th>min</th>\n",
       "    </tr>\n",
       "  </thead>\n",
       "  <tbody>\n",
       "    <tr>\n",
       "      <th>count</th>\n",
       "      <td>1000.000000</td>\n",
       "      <td>1000.000000</td>\n",
       "      <td>1000.000000</td>\n",
       "    </tr>\n",
       "    <tr>\n",
       "      <th>mean</th>\n",
       "      <td>0.325018</td>\n",
       "      <td>0.506290</td>\n",
       "      <td>0.157907</td>\n",
       "    </tr>\n",
       "    <tr>\n",
       "      <th>std</th>\n",
       "      <td>1.020810</td>\n",
       "      <td>1.555811</td>\n",
       "      <td>0.576609</td>\n",
       "    </tr>\n",
       "    <tr>\n",
       "      <th>min</th>\n",
       "      <td>0.013527</td>\n",
       "      <td>0.027927</td>\n",
       "      <td>0.000003</td>\n",
       "    </tr>\n",
       "    <tr>\n",
       "      <th>25%</th>\n",
       "      <td>0.042585</td>\n",
       "      <td>0.087391</td>\n",
       "      <td>0.001783</td>\n",
       "    </tr>\n",
       "    <tr>\n",
       "      <th>50%</th>\n",
       "      <td>0.065293</td>\n",
       "      <td>0.148106</td>\n",
       "      <td>0.005728</td>\n",
       "    </tr>\n",
       "    <tr>\n",
       "      <th>75%</th>\n",
       "      <td>0.238492</td>\n",
       "      <td>0.419762</td>\n",
       "      <td>0.059909</td>\n",
       "    </tr>\n",
       "    <tr>\n",
       "      <th>max</th>\n",
       "      <td>14.118881</td>\n",
       "      <td>25.061394</td>\n",
       "      <td>6.106443</td>\n",
       "    </tr>\n",
       "  </tbody>\n",
       "</table>\n",
       "</div>"
      ],
      "text/plain": [
       "              mean          max          min\n",
       "count  1000.000000  1000.000000  1000.000000\n",
       "mean      0.325018     0.506290     0.157907\n",
       "std       1.020810     1.555811     0.576609\n",
       "min       0.013527     0.027927     0.000003\n",
       "25%       0.042585     0.087391     0.001783\n",
       "50%       0.065293     0.148106     0.005728\n",
       "75%       0.238492     0.419762     0.059909\n",
       "max      14.118881    25.061394     6.106443"
      ]
     },
     "execution_count": 321,
     "metadata": {},
     "output_type": "execute_result"
    }
   ],
   "source": [
    "mape_frame.describe()"
   ]
  },
  {
   "cell_type": "code",
   "execution_count": 322,
   "metadata": {},
   "outputs": [],
   "source": [
    "def predict_and_plot(feature_list, sr_list, sample_ind, my_model,enc_tail_len=72,pred_steps=18):\n",
    "    input_series = get_batch_input(feature_list, sr_list, sample_ind, enc_tail_len, pred_steps)\n",
    "    pred_series = my_model.predict(input_series)\n",
    "    \n",
    "    #input_series = input_series.reshape(-1,1)\n",
    "    pred_series = pred_series.reshape(-1,1)   \n",
    "    target_series = sr_list[sample_ind][enc_tail_len:].reshape(-1,1)\n",
    "    # print(target_series.shape)\n",
    "    pred = (np.mean(sr_list[sample_ind]))*pred_series\n",
    "    \n",
    "    encode_series_tail = sr_list[sample_ind][:72].reshape(-1,1)\n",
    "    # print(encode_series_tail.shape)\n",
    "    x_encode = enc_tail_len\n",
    "    \n",
    "    plt.figure(figsize=(10,6))   \n",
    "    \n",
    "    plt.plot(range(1,x_encode+1),encode_series_tail)\n",
    "    plt.plot(range(x_encode,x_encode+pred_steps),target_series,color='orange')\n",
    "    plt.plot(range(x_encode,x_encode+pred_steps),pred,color='teal',linestyle='--')\n",
    "    \n",
    "    plt.title('Encoder Series Tail of Length %d, Target Series, and Predictions' % enc_tail_len)\n",
    "    plt.legend(['Encoding Series','Target Series','Predictions'])"
   ]
  },
  {
   "cell_type": "code",
   "execution_count": 323,
   "metadata": {},
   "outputs": [],
   "source": [
    "def get_batch_input(feature_list, sr_list, sample_ind, input_seq_length, pred_length):\n",
    "    s = np.zeros((1,whole_ts,FEATURE_LENGTH))\n",
    "    x,feature,y,ts_mean_list = get_batch_matrix(feature_list,sr_list,sample_ind,ENC_LENGTH,PRED_LENGTH)\n",
    "    for i in range(whole_ts):\n",
    "        s[0,i,:] = feature[i]\n",
    "    s[0,:,0] = x\n",
    "    enc_input = s[:,:ENC_LENGTH,:]\n",
    "    dec_output = np.expand_dims(s[:,ENC_LENGTH:,0],axis=2)\n",
    "    dec_input = get_teaching_force(FEATURE_LENGTH,enc_input,s[:,ENC_LENGTH:,:])\n",
    "    in_data = np.concatenate([enc_input, dec_input], axis=1)\n",
    "    return in_data"
   ]
  },
  {
   "cell_type": "code",
   "execution_count": 329,
   "metadata": {},
   "outputs": [
    {
     "data": {
      "image/png": "[encoded data removed]",
      "text/plain": [
       "<Figure size 720x432 with 1 Axes>"
      ]
     },
     "metadata": {},
     "output_type": "display_data"
    }
   ],
   "source": [
    "predict_and_plot(TEST_FEATURE_DATA, TEST_SR_DATA,670, dd, enc_tail_len=72,pred_steps=18)"
   ]
  },
  {
   "cell_type": "code",
   "execution_count": 273,
   "metadata": {},
   "outputs": [],
   "source": [
    "model.save('../base1.h5')\n",
    "model.save_weights('../base1_w.h5')"
   ]
  },
  {
   "cell_type": "code",
   "execution_count": 274,
   "metadata": {},
   "outputs": [],
   "source": [
    "from keras import models\n",
    "t_model = models.load_model('../base1.h5')"
   ]
  },
  {
   "cell_type": "code",
   "execution_count": 357,
   "metadata": {},
   "outputs": [],
   "source": [
    "################## CNN+dropout/LSTM #####################\n",
    "'''\n",
    "seems to be easily overfitting--high val loss and probably skip-out\n",
    "1st solution: CNN+spatialdropout\n",
    "2st solution: LSTM wrapped--(attemp to learn better?)\n",
    "'''\n",
    "# convolutional layer parameters\n",
    "from keras.layers import SpatialDropout1D\n",
    "n_filters = 32 \n",
    "filter_width = 2\n",
    "dilation_rates = [2**i for i in range(8)] \n",
    "epochs = 200\n",
    "batch_size = 128\n",
    "val_batch_size = 64\n",
    "steps_per_epoch = 500\n",
    "\n",
    "# define an input history series and pass it through a stack of dilated causal convolutions. \n",
    "history_seq = Input(shape=(None, FEATURE_LENGTH))\n",
    "x = history_seq\n",
    "dropout_rate = .2\n",
    "name = ''\n",
    "\n",
    "for dilation_rate in dilation_rates:\n",
    "    x = Conv1D(filters=n_filters,\n",
    "               kernel_size=filter_width, \n",
    "               padding='causal',\n",
    "               dilation_rate=dilation_rate)(x)\n",
    "    x = SpatialDropout1D(dropout_rate, name=name + 'spatial_dropout1d_%d_%f' % (dilation_rate*2,dropout_rate))(x)\n",
    "    \n",
    "x = Dense(128, activation='relu')(x)\n",
    "x = Dropout(.2)(x)\n",
    "x = Dense(1)(x)\n",
    "\n",
    "# extract the last 18 time steps as the training target\n",
    "def slice(x, PRED_LENGTH):\n",
    "    return x[:,-PRED_LENGTH:,:]\n",
    "\n",
    "pred_seq_train = Lambda(slice, arguments={'PRED_LENGTH':18})(x)\n",
    "\n",
    "d_model = Model(history_seq, pred_seq_train)"
   ]
  },
  {
   "cell_type": "code",
   "execution_count": 358,
   "metadata": {},
   "outputs": [
    {
     "name": "stdout",
     "output_type": "stream",
     "text": [
      "_________________________________________________________________\n",
      "Layer (type)                 Output Shape              Param #   \n",
      "=================================================================\n",
      "input_39 (InputLayer)        (None, None, 68)          0         \n",
      "_________________________________________________________________\n",
      "conv1d_85 (Conv1D)           (None, None, 32)          4384      \n",
      "_________________________________________________________________\n",
      "spatial_dropout1d_2_0.200000 (None, None, 32)          0         \n",
      "_________________________________________________________________\n",
      "conv1d_86 (Conv1D)           (None, None, 32)          2080      \n",
      "_________________________________________________________________\n",
      "spatial_dropout1d_4_0.200000 (None, None, 32)          0         \n",
      "_________________________________________________________________\n",
      "conv1d_87 (Conv1D)           (None, None, 32)          2080      \n",
      "_________________________________________________________________\n",
      "spatial_dropout1d_8_0.200000 (None, None, 32)          0         \n",
      "_________________________________________________________________\n",
      "conv1d_88 (Conv1D)           (None, None, 32)          2080      \n",
      "_________________________________________________________________\n",
      "spatial_dropout1d_16_0.20000 (None, None, 32)          0         \n",
      "_________________________________________________________________\n",
      "conv1d_89 (Conv1D)           (None, None, 32)          2080      \n",
      "_________________________________________________________________\n",
      "spatial_dropout1d_32_0.20000 (None, None, 32)          0         \n",
      "_________________________________________________________________\n",
      "conv1d_90 (Conv1D)           (None, None, 32)          2080      \n",
      "_________________________________________________________________\n",
      "spatial_dropout1d_64_0.20000 (None, None, 32)          0         \n",
      "_________________________________________________________________\n",
      "conv1d_91 (Conv1D)           (None, None, 32)          2080      \n",
      "_________________________________________________________________\n",
      "spatial_dropout1d_128_0.2000 (None, None, 32)          0         \n",
      "_________________________________________________________________\n",
      "conv1d_92 (Conv1D)           (None, None, 32)          2080      \n",
      "_________________________________________________________________\n",
      "spatial_dropout1d_256_0.2000 (None, None, 32)          0         \n",
      "_________________________________________________________________\n",
      "dense_13 (Dense)             (None, None, 128)         4224      \n",
      "_________________________________________________________________\n",
      "dropout_7 (Dropout)          (None, None, 128)         0         \n",
      "_________________________________________________________________\n",
      "dense_14 (Dense)             (None, None, 1)           129       \n",
      "_________________________________________________________________\n",
      "lambda_7 (Lambda)            (None, None, 1)           0         \n",
      "=================================================================\n",
      "Total params: 23,297\n",
      "Trainable params: 23,297\n",
      "Non-trainable params: 0\n",
      "_________________________________________________________________\n"
     ]
    }
   ],
   "source": [
    "d_model.summary()"
   ]
  },
  {
   "cell_type": "code",
   "execution_count": 359,
   "metadata": {},
   "outputs": [],
   "source": [
    "############## Residual Network Added ##################\n",
    "def residual_block(x, s, i, activation, nb_filters, kernel_size, padding, dropout_rate=0,name=''):\n",
    "    # type: (Layer, int, int, str, int, int, float, str) -> Tuple[Layer, Layer]\n",
    "    original_x = x\n",
    "    # print('input size-----',original_x.get_shape())\n",
    "    x = BatchNormalization(axis=-1,name='bn_layer_%d_s%d_%f' % (i, s, dropout_rate))(x)\n",
    "    x = Activation('linear')(x)\n",
    "    conv = Conv1D(filters=nb_filters, kernel_size=kernel_size,\n",
    "                  dilation_rate=i, padding=padding)(x)\n",
    "    x = Activation('linear')(x)    \n",
    "    x = SpatialDropout1D(dropout_rate, name=name + 'spatial_dropout1d_%d_s%d_%f' % (i*2, s, dropout_rate))(x)\n",
    "    # print('-----------------2dilate',x.get_shape())\n",
    "    short_cut = Conv1D(nb_filters, 1, padding='same')(x)\n",
    "    # 1x1 conv.\n",
    "    x = Conv1D(nb_filters, 1, padding='same')(x)\n",
    "    residual_x =add([original_x, x])\n",
    "    return residual_x,short_cut"
   ]
  },
  {
   "cell_type": "code",
   "execution_count": 360,
   "metadata": {},
   "outputs": [],
   "source": [
    "############tcn model#################\n",
    "# convolutional layer parameters\n",
    "n_filters = 32 \n",
    "filter_width = 2\n",
    "dilation_rates = [2**i for i in range(8)] \n",
    "epochs = 200\n",
    "batch_size = 128\n",
    "val_batch_size = 64\n",
    "steps_per_epoch = 500\n",
    "PRED_LENGTH = 18\n",
    "\n",
    "def my_tcn_model(dilation_rate_range,nb_filters,inputs,padding,n_stacks,kernel_size,\n",
    "                 dropout_rate,activation,\n",
    "                 use_skip_connections=True,return_sequences=True):\n",
    "    # define an input history series and pass it through a stack of dilated causal convolutions. \n",
    "    \n",
    "    x = inputs\n",
    "    x = Conv1D(filters=nb_filters, padding=padding,dilation_rate=1,kernel_size=filter_width)(x)\n",
    "    S = []\n",
    "    for s in range(n_stacks):\n",
    "        for i in dilation_rate_range:\n",
    "            x, short_cut = residual_block(x, s, i, activation, n_filters,kernel_size, padding, dropout_rate,activation)\n",
    "            # print(x.get_shape())\n",
    "            S.append(short_cut)\n",
    "    if use_skip_connections:\n",
    "        skip_connection = add(S)\n",
    "        x = skip_connection\n",
    "        \n",
    "    x = Dense(128, activation='relu')(x)\n",
    "    x = Dropout(.1)(x)\n",
    "    x = Dense(1)(x)\n",
    "\n",
    "    if not return_sequences:\n",
    "        output_slice_index = -1\n",
    "        x = Lambda(lambda tt: tt[:, output_slice_index, :])(x)\n",
    "    else:\n",
    "        x = Lambda(lambda tt: tt[:, -PRED_LENGTH:, :])(x)\n",
    "    return x"
   ]
  },
  {
   "cell_type": "code",
   "execution_count": 361,
   "metadata": {},
   "outputs": [],
   "source": [
    "from keras.models import Model\n",
    "from keras.layers import Input, Conv1D, Dense, Dropout, Lambda, concatenate,SpatialDropout1D,add\n",
    "from keras.optimizers import Adam\n",
    "\n",
    "history_seq = Input(shape=(None, FEATURE_LENGTH))\n",
    "x = history_seq\n",
    "\n",
    "pred_seq_target = my_tcn_model(dilation_rates,n_filters,x,'causal',1,filter_width,.1,'relu')\n",
    "#pred_no_skip = my_tcn_model(dilation_rates,n_filters,x,'causal',3,filter_width,.1,'relu',use_skip_connections=False)"
   ]
  },
  {
   "cell_type": "code",
   "execution_count": 362,
   "metadata": {},
   "outputs": [],
   "source": [
    "r_model = Model(history_seq,pred_seq_target)"
   ]
  },
  {
   "cell_type": "code",
   "execution_count": 334,
   "metadata": {},
   "outputs": [
    {
     "name": "stdout",
     "output_type": "stream",
     "text": [
      "__________________________________________________________________________________________________\n",
      "Layer (type)                    Output Shape         Param #     Connected to                     \n",
      "==================================================================================================\n",
      "input_9 (InputLayer)            (None, None, 68)     0                                            \n",
      "__________________________________________________________________________________________________\n",
      "conv1d_46 (Conv1D)              (None, None, 32)     4384        input_9[0][0]                    \n",
      "__________________________________________________________________________________________________\n",
      "bn_layer_1_s0_0.100000 (BatchNo (None, None, 32)     128         conv1d_46[0][0]                  \n",
      "__________________________________________________________________________________________________\n",
      "activation_1 (Activation)       (None, None, 32)     0           bn_layer_1_s0_0.100000[0][0]     \n",
      "__________________________________________________________________________________________________\n",
      "activation_2 (Activation)       (None, None, 32)     0           activation_1[0][0]               \n",
      "__________________________________________________________________________________________________\n",
      "reluspatial_dropout1d_2_s0_0.10 (None, None, 32)     0           activation_2[0][0]               \n",
      "__________________________________________________________________________________________________\n",
      "conv1d_49 (Conv1D)              (None, None, 32)     1056        reluspatial_dropout1d_2_s0_0.1000\n",
      "__________________________________________________________________________________________________\n",
      "add_1 (Add)                     (None, None, 32)     0           conv1d_46[0][0]                  \n",
      "                                                                 conv1d_49[0][0]                  \n",
      "__________________________________________________________________________________________________\n",
      "bn_layer_2_s0_0.100000 (BatchNo (None, None, 32)     128         add_1[0][0]                      \n",
      "__________________________________________________________________________________________________\n",
      "activation_3 (Activation)       (None, None, 32)     0           bn_layer_2_s0_0.100000[0][0]     \n",
      "__________________________________________________________________________________________________\n",
      "activation_4 (Activation)       (None, None, 32)     0           activation_3[0][0]               \n",
      "__________________________________________________________________________________________________\n",
      "reluspatial_dropout1d_4_s0_0.10 (None, None, 32)     0           activation_4[0][0]               \n",
      "__________________________________________________________________________________________________\n",
      "conv1d_52 (Conv1D)              (None, None, 32)     1056        reluspatial_dropout1d_4_s0_0.1000\n",
      "__________________________________________________________________________________________________\n",
      "add_2 (Add)                     (None, None, 32)     0           add_1[0][0]                      \n",
      "                                                                 conv1d_52[0][0]                  \n",
      "__________________________________________________________________________________________________\n",
      "bn_layer_4_s0_0.100000 (BatchNo (None, None, 32)     128         add_2[0][0]                      \n",
      "__________________________________________________________________________________________________\n",
      "activation_5 (Activation)       (None, None, 32)     0           bn_layer_4_s0_0.100000[0][0]     \n",
      "__________________________________________________________________________________________________\n",
      "activation_6 (Activation)       (None, None, 32)     0           activation_5[0][0]               \n",
      "__________________________________________________________________________________________________\n",
      "reluspatial_dropout1d_8_s0_0.10 (None, None, 32)     0           activation_6[0][0]               \n",
      "__________________________________________________________________________________________________\n",
      "conv1d_55 (Conv1D)              (None, None, 32)     1056        reluspatial_dropout1d_8_s0_0.1000\n",
      "__________________________________________________________________________________________________\n",
      "add_3 (Add)                     (None, None, 32)     0           add_2[0][0]                      \n",
      "                                                                 conv1d_55[0][0]                  \n",
      "__________________________________________________________________________________________________\n",
      "bn_layer_8_s0_0.100000 (BatchNo (None, None, 32)     128         add_3[0][0]                      \n",
      "__________________________________________________________________________________________________\n",
      "activation_7 (Activation)       (None, None, 32)     0           bn_layer_8_s0_0.100000[0][0]     \n",
      "__________________________________________________________________________________________________\n",
      "activation_8 (Activation)       (None, None, 32)     0           activation_7[0][0]               \n",
      "__________________________________________________________________________________________________\n",
      "reluspatial_dropout1d_16_s0_0.1 (None, None, 32)     0           activation_8[0][0]               \n",
      "__________________________________________________________________________________________________\n",
      "conv1d_58 (Conv1D)              (None, None, 32)     1056        reluspatial_dropout1d_16_s0_0.100\n",
      "__________________________________________________________________________________________________\n",
      "add_4 (Add)                     (None, None, 32)     0           add_3[0][0]                      \n",
      "                                                                 conv1d_58[0][0]                  \n",
      "__________________________________________________________________________________________________\n",
      "bn_layer_16_s0_0.100000 (BatchN (None, None, 32)     128         add_4[0][0]                      \n",
      "__________________________________________________________________________________________________\n",
      "activation_9 (Activation)       (None, None, 32)     0           bn_layer_16_s0_0.100000[0][0]    \n",
      "__________________________________________________________________________________________________\n",
      "activation_10 (Activation)      (None, None, 32)     0           activation_9[0][0]               \n",
      "__________________________________________________________________________________________________\n",
      "reluspatial_dropout1d_32_s0_0.1 (None, None, 32)     0           activation_10[0][0]              \n",
      "__________________________________________________________________________________________________\n",
      "conv1d_61 (Conv1D)              (None, None, 32)     1056        reluspatial_dropout1d_32_s0_0.100\n",
      "__________________________________________________________________________________________________\n",
      "add_5 (Add)                     (None, None, 32)     0           add_4[0][0]                      \n",
      "                                                                 conv1d_61[0][0]                  \n",
      "__________________________________________________________________________________________________\n",
      "bn_layer_32_s0_0.100000 (BatchN (None, None, 32)     128         add_5[0][0]                      \n",
      "__________________________________________________________________________________________________\n",
      "activation_11 (Activation)      (None, None, 32)     0           bn_layer_32_s0_0.100000[0][0]    \n",
      "__________________________________________________________________________________________________\n",
      "activation_12 (Activation)      (None, None, 32)     0           activation_11[0][0]              \n",
      "__________________________________________________________________________________________________\n",
      "reluspatial_dropout1d_64_s0_0.1 (None, None, 32)     0           activation_12[0][0]              \n",
      "__________________________________________________________________________________________________\n",
      "conv1d_64 (Conv1D)              (None, None, 32)     1056        reluspatial_dropout1d_64_s0_0.100\n",
      "__________________________________________________________________________________________________\n",
      "add_6 (Add)                     (None, None, 32)     0           add_5[0][0]                      \n",
      "                                                                 conv1d_64[0][0]                  \n",
      "__________________________________________________________________________________________________\n",
      "bn_layer_64_s0_0.100000 (BatchN (None, None, 32)     128         add_6[0][0]                      \n",
      "__________________________________________________________________________________________________\n",
      "activation_13 (Activation)      (None, None, 32)     0           bn_layer_64_s0_0.100000[0][0]    \n",
      "__________________________________________________________________________________________________\n",
      "activation_14 (Activation)      (None, None, 32)     0           activation_13[0][0]              \n",
      "__________________________________________________________________________________________________\n",
      "reluspatial_dropout1d_128_s0_0. (None, None, 32)     0           activation_14[0][0]              \n",
      "__________________________________________________________________________________________________\n",
      "conv1d_67 (Conv1D)              (None, None, 32)     1056        reluspatial_dropout1d_128_s0_0.10\n",
      "__________________________________________________________________________________________________\n",
      "add_7 (Add)                     (None, None, 32)     0           add_6[0][0]                      \n",
      "                                                                 conv1d_67[0][0]                  \n",
      "__________________________________________________________________________________________________\n",
      "bn_layer_128_s0_0.100000 (Batch (None, None, 32)     128         add_7[0][0]                      \n",
      "__________________________________________________________________________________________________\n",
      "activation_15 (Activation)      (None, None, 32)     0           bn_layer_128_s0_0.100000[0][0]   \n",
      "__________________________________________________________________________________________________\n",
      "activation_16 (Activation)      (None, None, 32)     0           activation_15[0][0]              \n",
      "__________________________________________________________________________________________________\n",
      "reluspatial_dropout1d_256_s0_0. (None, None, 32)     0           activation_16[0][0]              \n",
      "__________________________________________________________________________________________________\n",
      "conv1d_48 (Conv1D)              (None, None, 32)     1056        reluspatial_dropout1d_2_s0_0.1000\n",
      "__________________________________________________________________________________________________\n",
      "conv1d_51 (Conv1D)              (None, None, 32)     1056        reluspatial_dropout1d_4_s0_0.1000\n",
      "__________________________________________________________________________________________________\n",
      "conv1d_54 (Conv1D)              (None, None, 32)     1056        reluspatial_dropout1d_8_s0_0.1000\n",
      "__________________________________________________________________________________________________\n",
      "conv1d_57 (Conv1D)              (None, None, 32)     1056        reluspatial_dropout1d_16_s0_0.100\n",
      "__________________________________________________________________________________________________\n",
      "conv1d_60 (Conv1D)              (None, None, 32)     1056        reluspatial_dropout1d_32_s0_0.100\n",
      "__________________________________________________________________________________________________\n",
      "conv1d_63 (Conv1D)              (None, None, 32)     1056        reluspatial_dropout1d_64_s0_0.100\n",
      "__________________________________________________________________________________________________\n",
      "conv1d_66 (Conv1D)              (None, None, 32)     1056        reluspatial_dropout1d_128_s0_0.10\n",
      "__________________________________________________________________________________________________\n",
      "conv1d_69 (Conv1D)              (None, None, 32)     1056        reluspatial_dropout1d_256_s0_0.10\n",
      "__________________________________________________________________________________________________\n",
      "add_9 (Add)                     (None, None, 32)     0           conv1d_48[0][0]                  \n",
      "                                                                 conv1d_51[0][0]                  \n",
      "                                                                 conv1d_54[0][0]                  \n",
      "                                                                 conv1d_57[0][0]                  \n",
      "                                                                 conv1d_60[0][0]                  \n",
      "                                                                 conv1d_63[0][0]                  \n",
      "                                                                 conv1d_66[0][0]                  \n",
      "                                                                 conv1d_69[0][0]                  \n",
      "__________________________________________________________________________________________________\n",
      "dense_11 (Dense)                (None, None, 128)    4224        add_9[0][0]                      \n",
      "__________________________________________________________________________________________________\n",
      "dropout_6 (Dropout)             (None, None, 128)    0           dense_11[0][0]                   \n",
      "__________________________________________________________________________________________________\n",
      "dense_12 (Dense)                (None, None, 1)      129         dropout_6[0][0]                  \n",
      "__________________________________________________________________________________________________\n",
      "lambda_6 (Lambda)               (None, None, 1)      0           dense_12[0][0]                   \n",
      "==================================================================================================\n",
      "Total params: 25,601\n",
      "Trainable params: 25,089\n",
      "Non-trainable params: 512\n",
      "__________________________________________________________________________________________________\n"
     ]
    }
   ],
   "source": [
    "r_model.summary()"
   ]
  },
  {
   "cell_type": "code",
   "execution_count": 335,
   "metadata": {},
   "outputs": [
    {
     "name": "stdout",
     "output_type": "stream",
     "text": [
      "Epoch 1/200\n",
      "500/500 [==============================] - 130s 261ms/step - loss: 0.3571 - val_loss: 0.2048\n",
      "Epoch 2/200\n",
      "500/500 [==============================] - 124s 248ms/step - loss: 0.2171 - val_loss: 0.1662\n",
      "Epoch 3/200\n",
      "500/500 [==============================] - 125s 251ms/step - loss: 0.1579 - val_loss: 0.1201\n",
      "Epoch 4/200\n",
      "500/500 [==============================] - 123s 247ms/step - loss: 0.1375 - val_loss: 0.1378\n",
      "Epoch 5/200\n",
      "500/500 [==============================] - 123s 246ms/step - loss: 0.1256 - val_loss: 0.1237\n",
      "Epoch 6/200\n",
      "500/500 [==============================] - 123s 246ms/step - loss: 0.1172 - val_loss: 0.1152\n",
      "Epoch 7/200\n",
      "500/500 [==============================] - 123s 247ms/step - loss: 0.1122 - val_loss: 0.1010\n",
      "Epoch 8/200\n",
      "500/500 [==============================] - 125s 250ms/step - loss: 0.1061 - val_loss: 0.0991\n",
      "Epoch 9/200\n",
      "500/500 [==============================] - 126s 253ms/step - loss: 0.1026 - val_loss: 0.1087\n",
      "Epoch 10/200\n",
      "500/500 [==============================] - 125s 250ms/step - loss: 0.0982 - val_loss: 0.1059\n",
      "Epoch 11/200\n",
      "500/500 [==============================] - 128s 255ms/step - loss: 0.0962 - val_loss: 0.1012\n",
      "Epoch 12/200\n",
      "500/500 [==============================] - 125s 250ms/step - loss: 0.0940 - val_loss: 0.1108\n",
      "Epoch 13/200\n",
      "500/500 [==============================] - 125s 249ms/step - loss: 0.0918 - val_loss: 0.1079\n",
      "Epoch 14/200\n",
      "500/500 [==============================] - 125s 249ms/step - loss: 0.0893 - val_loss: 0.1085\n",
      "Epoch 15/200\n",
      "500/500 [==============================] - 125s 249ms/step - loss: 0.0884 - val_loss: 0.0982\n",
      "Epoch 16/200\n",
      "500/500 [==============================] - 123s 246ms/step - loss: 0.0871 - val_loss: 0.0908\n",
      "Epoch 17/200\n",
      "500/500 [==============================] - 123s 245ms/step - loss: 0.0849 - val_loss: 0.0992\n",
      "Epoch 18/200\n",
      "500/500 [==============================] - 122s 244ms/step - loss: 0.0839 - val_loss: 0.0967\n",
      "Epoch 19/200\n",
      "500/500 [==============================] - 122s 244ms/step - loss: 0.0830 - val_loss: 0.0826\n",
      "Epoch 20/200\n",
      "500/500 [==============================] - 123s 246ms/step - loss: 0.0823 - val_loss: 0.0986\n",
      "Epoch 21/200\n",
      "500/500 [==============================] - 123s 247ms/step - loss: 0.0804 - val_loss: 0.1032\n",
      "Epoch 22/200\n",
      "500/500 [==============================] - 127s 255ms/step - loss: 0.0800 - val_loss: 0.0984\n",
      "Epoch 23/200\n",
      "500/500 [==============================] - 125s 249ms/step - loss: 0.0793 - val_loss: 0.0994\n",
      "Epoch 24/200\n",
      "500/500 [==============================] - 125s 250ms/step - loss: 0.0795 - val_loss: 0.1027\n",
      "Epoch 25/200\n",
      "500/500 [==============================] - 126s 251ms/step - loss: 0.0784 - val_loss: 0.1012\n",
      "Epoch 26/200\n",
      "500/500 [==============================] - 126s 252ms/step - loss: 0.0776 - val_loss: 0.0860\n",
      "Epoch 27/200\n",
      "500/500 [==============================] - 128s 256ms/step - loss: 0.0757 - val_loss: 0.0859\n",
      "Epoch 28/200\n",
      "500/500 [==============================] - 126s 252ms/step - loss: 0.0761 - val_loss: 0.1012\n",
      "Epoch 29/200\n",
      "500/500 [==============================] - 126s 253ms/step - loss: 0.0751 - val_loss: 0.1068\n",
      "Epoch 30/200\n",
      "500/500 [==============================] - 125s 249ms/step - loss: 0.0735 - val_loss: 0.1002\n",
      "Epoch 31/200\n",
      "500/500 [==============================] - 127s 254ms/step - loss: 0.0730 - val_loss: 0.0917\n",
      "Epoch 32/200\n",
      "500/500 [==============================] - 126s 252ms/step - loss: 0.0714 - val_loss: 0.0927\n",
      "Epoch 33/200\n",
      "500/500 [==============================] - 126s 252ms/step - loss: 0.0713 - val_loss: 0.0892\n",
      "Epoch 34/200\n",
      "500/500 [==============================] - 126s 252ms/step - loss: 0.0707 - val_loss: 0.1035\n",
      "Epoch 35/200\n",
      "500/500 [==============================] - 125s 251ms/step - loss: 0.0693 - val_loss: 0.0967\n",
      "Epoch 36/200\n",
      "500/500 [==============================] - 126s 253ms/step - loss: 0.0693 - val_loss: 0.1059\n",
      "Epoch 37/200\n",
      "500/500 [==============================] - 126s 252ms/step - loss: 0.0682 - val_loss: 0.0989\n",
      "Epoch 38/200\n",
      "500/500 [==============================] - 125s 250ms/step - loss: 0.0679 - val_loss: 0.0964\n",
      "Epoch 39/200\n",
      "500/500 [==============================] - 124s 249ms/step - loss: 0.0673 - val_loss: 0.0958\n",
      "Epoch 40/200\n",
      "500/500 [==============================] - 123s 246ms/step - loss: 0.0667 - val_loss: 0.0982\n",
      "Epoch 41/200\n",
      "500/500 [==============================] - 123s 247ms/step - loss: 0.0667 - val_loss: 0.1119\n",
      "Epoch 42/200\n",
      "500/500 [==============================] - 122s 245ms/step - loss: 0.0654 - val_loss: 0.1063\n",
      "Epoch 43/200\n",
      "500/500 [==============================] - 123s 246ms/step - loss: 0.0653 - val_loss: 0.0838\n",
      "Epoch 44/200\n",
      "500/500 [==============================] - 122s 245ms/step - loss: 0.0657 - val_loss: 0.0861\n",
      "Epoch 45/200\n",
      "500/500 [==============================] - 123s 247ms/step - loss: 0.0655 - val_loss: 0.0915\n",
      "Epoch 46/200\n",
      "500/500 [==============================] - 127s 254ms/step - loss: 0.0642 - val_loss: 0.0954\n",
      "Epoch 47/200\n",
      "500/500 [==============================] - 123s 245ms/step - loss: 0.0636 - val_loss: 0.0930\n",
      "Epoch 48/200\n",
      "500/500 [==============================] - 126s 252ms/step - loss: 0.0643 - val_loss: 0.0942\n",
      "Epoch 49/200\n",
      "500/500 [==============================] - 126s 253ms/step - loss: 0.0634 - val_loss: 0.0949\n",
      "Epoch 50/200\n",
      "500/500 [==============================] - 125s 250ms/step - loss: 0.0630 - val_loss: 0.0972\n",
      "Epoch 51/200\n",
      "500/500 [==============================] - 126s 252ms/step - loss: 0.0624 - val_loss: 0.0953\n",
      "Epoch 52/200\n",
      "500/500 [==============================] - 125s 250ms/step - loss: 0.0633 - val_loss: 0.0971\n",
      "Epoch 53/200\n",
      "500/500 [==============================] - 126s 252ms/step - loss: 0.0625 - val_loss: 0.0945\n",
      "Epoch 54/200\n",
      "500/500 [==============================] - 127s 253ms/step - loss: 0.0617 - val_loss: 0.0934\n",
      "Epoch 55/200\n",
      "500/500 [==============================] - 126s 253ms/step - loss: 0.0618 - val_loss: 0.0861\n",
      "Epoch 56/200\n",
      "500/500 [==============================] - 125s 250ms/step - loss: 0.0619 - val_loss: 0.0956\n",
      "Epoch 57/200\n",
      "500/500 [==============================] - 125s 251ms/step - loss: 0.0619 - val_loss: 0.0843\n",
      "Epoch 58/200\n",
      "500/500 [==============================] - 126s 252ms/step - loss: 0.0617 - val_loss: 0.0889\n",
      "Epoch 59/200\n",
      "500/500 [==============================] - 125s 250ms/step - loss: 0.0615 - val_loss: 0.0940\n",
      "Epoch 60/200\n",
      "500/500 [==============================] - 125s 250ms/step - loss: 0.0614 - val_loss: 0.0816\n",
      "Epoch 61/200\n",
      "500/500 [==============================] - 125s 250ms/step - loss: 0.0619 - val_loss: 0.1016\n",
      "Epoch 62/200\n",
      "500/500 [==============================] - 124s 247ms/step - loss: 0.0614 - val_loss: 0.0988\n",
      "Epoch 63/200\n",
      "500/500 [==============================] - 125s 250ms/step - loss: 0.0610 - val_loss: 0.0879\n",
      "Epoch 64/200\n",
      "500/500 [==============================] - 125s 249ms/step - loss: 0.0607 - val_loss: 0.0831\n",
      "Epoch 65/200\n",
      "500/500 [==============================] - 123s 246ms/step - loss: 0.0609 - val_loss: 0.0988\n",
      "Epoch 66/200\n",
      "500/500 [==============================] - 126s 252ms/step - loss: 0.0613 - val_loss: 0.0994\n",
      "Epoch 67/200\n",
      "500/500 [==============================] - 125s 250ms/step - loss: 0.0597 - val_loss: 0.0904\n",
      "Epoch 68/200\n",
      "500/500 [==============================] - 124s 247ms/step - loss: 0.0607 - val_loss: 0.0837\n",
      "Epoch 69/200\n",
      "500/500 [==============================] - 126s 251ms/step - loss: 0.0603 - val_loss: 0.0991\n",
      "Epoch 70/200\n",
      "500/500 [==============================] - 126s 251ms/step - loss: 0.0607 - val_loss: 0.0845\n",
      "Epoch 71/200\n",
      "500/500 [==============================] - 125s 250ms/step - loss: 0.0604 - val_loss: 0.0941\n",
      "Epoch 72/200\n",
      "500/500 [==============================] - 124s 249ms/step - loss: 0.0604 - val_loss: 0.0904\n",
      "Epoch 73/200\n",
      "500/500 [==============================] - 124s 247ms/step - loss: 0.0598 - val_loss: 0.1032\n",
      "Epoch 74/200\n",
      "500/500 [==============================] - 124s 248ms/step - loss: 0.0603 - val_loss: 0.0982\n",
      "Epoch 75/200\n",
      "500/500 [==============================] - 125s 250ms/step - loss: 0.0602 - val_loss: 0.1000\n",
      "Epoch 76/200\n",
      "500/500 [==============================] - 127s 253ms/step - loss: 0.0603 - val_loss: 0.1014\n",
      "Epoch 77/200\n",
      "500/500 [==============================] - 125s 251ms/step - loss: 0.0598 - val_loss: 0.1000\n",
      "Epoch 78/200\n"
     ]
    },
    {
     "name": "stdout",
     "output_type": "stream",
     "text": [
      "500/500 [==============================] - 124s 248ms/step - loss: 0.0596 - val_loss: 0.0908\n",
      "Epoch 79/200\n",
      "500/500 [==============================] - 125s 251ms/step - loss: 0.0595 - val_loss: 0.1006\n",
      "Epoch 80/200\n",
      "500/500 [==============================] - 124s 249ms/step - loss: 0.0603 - val_loss: 0.0997\n",
      "Epoch 81/200\n",
      "500/500 [==============================] - 126s 251ms/step - loss: 0.0593 - val_loss: 0.1168\n",
      "Epoch 82/200\n",
      "500/500 [==============================] - 125s 249ms/step - loss: 0.0596 - val_loss: 0.1074\n",
      "Epoch 83/200\n",
      "500/500 [==============================] - 124s 248ms/step - loss: 0.0593 - val_loss: 0.1023\n",
      "Epoch 84/200\n",
      "500/500 [==============================] - 124s 248ms/step - loss: 0.0593 - val_loss: 0.0981\n",
      "Epoch 85/200\n",
      "500/500 [==============================] - 126s 253ms/step - loss: 0.0594 - val_loss: 0.1071\n",
      "Epoch 86/200\n",
      "500/500 [==============================] - 125s 249ms/step - loss: 0.0592 - val_loss: 0.1016\n",
      "Epoch 87/200\n",
      "500/500 [==============================] - 125s 250ms/step - loss: 0.0587 - val_loss: 0.1093\n",
      "Epoch 88/200\n",
      "500/500 [==============================] - 125s 249ms/step - loss: 0.0596 - val_loss: 0.0909\n",
      "Epoch 89/200\n",
      "500/500 [==============================] - 124s 249ms/step - loss: 0.0578 - val_loss: 0.0976\n",
      "Epoch 90/200\n",
      "500/500 [==============================] - 126s 252ms/step - loss: 0.0579 - val_loss: 0.0968\n",
      "Epoch 91/200\n",
      "500/500 [==============================] - 123s 246ms/step - loss: 0.0588 - val_loss: 0.1091\n",
      "Epoch 92/200\n",
      "500/500 [==============================] - 122s 244ms/step - loss: 0.0578 - val_loss: 0.1015\n",
      "Epoch 93/200\n",
      "500/500 [==============================] - 123s 247ms/step - loss: 0.0586 - val_loss: 0.1020\n",
      "Epoch 94/200\n",
      "500/500 [==============================] - 124s 248ms/step - loss: 0.0585 - val_loss: 0.0982\n",
      "Epoch 95/200\n",
      "500/500 [==============================] - 122s 245ms/step - loss: 0.0578 - val_loss: 0.1009\n",
      "Epoch 96/200\n",
      "500/500 [==============================] - 121s 243ms/step - loss: 0.0581 - val_loss: 0.0980\n",
      "Epoch 97/200\n",
      "500/500 [==============================] - 122s 245ms/step - loss: 0.0584 - val_loss: 0.1074\n",
      "Epoch 98/200\n",
      "500/500 [==============================] - 122s 245ms/step - loss: 0.0589 - val_loss: 0.1049\n",
      "Epoch 99/200\n",
      "500/500 [==============================] - 124s 248ms/step - loss: 0.0580 - val_loss: 0.1031\n",
      "Epoch 100/200\n",
      "500/500 [==============================] - 126s 252ms/step - loss: 0.0585 - val_loss: 0.1021\n",
      "Epoch 101/200\n",
      "500/500 [==============================] - 124s 248ms/step - loss: 0.0584 - val_loss: 0.1023\n",
      "Epoch 102/200\n",
      "500/500 [==============================] - 125s 251ms/step - loss: 0.0580 - val_loss: 0.1062\n",
      "Epoch 103/200\n",
      "500/500 [==============================] - 127s 254ms/step - loss: 0.0581 - val_loss: 0.1196\n",
      "Epoch 104/200\n",
      "500/500 [==============================] - 125s 251ms/step - loss: 0.0577 - val_loss: 0.1073\n",
      "Epoch 105/200\n",
      "500/500 [==============================] - 126s 253ms/step - loss: 0.0583 - val_loss: 0.1116\n",
      "Epoch 106/200\n",
      "500/500 [==============================] - 125s 251ms/step - loss: 0.0579 - val_loss: 0.1089\n",
      "Epoch 107/200\n",
      "500/500 [==============================] - 128s 256ms/step - loss: 0.0578 - val_loss: 0.1059\n",
      "Epoch 108/200\n",
      "500/500 [==============================] - 125s 250ms/step - loss: 0.0574 - val_loss: 0.1028\n",
      "Epoch 109/200\n",
      "500/500 [==============================] - 126s 251ms/step - loss: 0.0579 - val_loss: 0.1092\n",
      "Epoch 110/200\n",
      "500/500 [==============================] - 126s 251ms/step - loss: 0.0581 - val_loss: 0.1057\n",
      "Epoch 111/200\n",
      "500/500 [==============================] - 126s 252ms/step - loss: 0.0572 - val_loss: 0.1069\n",
      "Epoch 112/200\n",
      "500/500 [==============================] - 125s 250ms/step - loss: 0.0575 - val_loss: 0.1139\n",
      "Epoch 113/200\n",
      "500/500 [==============================] - 125s 250ms/step - loss: 0.0577 - val_loss: 0.1238\n",
      "Epoch 114/200\n",
      "500/500 [==============================] - 126s 251ms/step - loss: 0.0573 - val_loss: 0.1031\n",
      "Epoch 115/200\n",
      "500/500 [==============================] - 125s 251ms/step - loss: 0.0572 - val_loss: 0.1147\n",
      "Epoch 116/200\n",
      "500/500 [==============================] - 124s 249ms/step - loss: 0.0570 - val_loss: 0.1140\n",
      "Epoch 117/200\n",
      "500/500 [==============================] - 125s 249ms/step - loss: 0.0577 - val_loss: 0.1058\n",
      "Epoch 118/200\n",
      "500/500 [==============================] - 126s 253ms/step - loss: 0.0574 - val_loss: 0.1179\n",
      "Epoch 119/200\n",
      "500/500 [==============================] - 124s 248ms/step - loss: 0.0571 - val_loss: 0.1058\n",
      "Epoch 120/200\n",
      "500/500 [==============================] - 124s 248ms/step - loss: 0.0570 - val_loss: 0.1099\n",
      "Epoch 121/200\n",
      "500/500 [==============================] - 122s 243ms/step - loss: 0.0579 - val_loss: 0.1103\n",
      "Epoch 122/200\n",
      "500/500 [==============================] - 124s 249ms/step - loss: 0.0571 - val_loss: 0.1080\n",
      "Epoch 123/200\n",
      "500/500 [==============================] - 123s 246ms/step - loss: 0.0570 - val_loss: 0.1123\n",
      "Epoch 124/200\n",
      "500/500 [==============================] - 122s 245ms/step - loss: 0.0566 - val_loss: 0.1112\n",
      "Epoch 125/200\n",
      "500/500 [==============================] - 123s 246ms/step - loss: 0.0565 - val_loss: 0.1252\n",
      "Epoch 126/200\n",
      "500/500 [==============================] - 121s 241ms/step - loss: 0.0573 - val_loss: 0.1123\n",
      "Epoch 127/200\n",
      "500/500 [==============================] - 123s 246ms/step - loss: 0.0561 - val_loss: 0.1139\n",
      "Epoch 128/200\n",
      "500/500 [==============================] - 123s 246ms/step - loss: 0.0570 - val_loss: 0.1114\n",
      "Epoch 129/200\n",
      "500/500 [==============================] - 124s 247ms/step - loss: 0.0569 - val_loss: 0.1160\n",
      "Epoch 130/200\n",
      "500/500 [==============================] - 123s 245ms/step - loss: 0.0570 - val_loss: 0.1168\n",
      "Epoch 131/200\n",
      "500/500 [==============================] - 124s 248ms/step - loss: 0.0565 - val_loss: 0.1016\n",
      "Epoch 132/200\n",
      "500/500 [==============================] - 124s 248ms/step - loss: 0.0571 - val_loss: 0.1149\n",
      "Epoch 133/200\n",
      "500/500 [==============================] - 124s 247ms/step - loss: 0.0565 - val_loss: 0.1127\n",
      "Epoch 134/200\n",
      "500/500 [==============================] - 123s 246ms/step - loss: 0.0564 - val_loss: 0.1243\n",
      "Epoch 135/200\n",
      "500/500 [==============================] - 123s 246ms/step - loss: 0.0557 - val_loss: 0.1172\n",
      "Epoch 136/200\n",
      "500/500 [==============================] - 123s 246ms/step - loss: 0.0560 - val_loss: 0.1168\n",
      "Epoch 137/200\n",
      "500/500 [==============================] - 125s 250ms/step - loss: 0.0566 - val_loss: 0.1104\n",
      "Epoch 138/200\n",
      "500/500 [==============================] - 125s 250ms/step - loss: 0.0564 - val_loss: 0.1101\n",
      "Epoch 139/200\n",
      "500/500 [==============================] - 126s 251ms/step - loss: 0.0566 - val_loss: 0.1183\n",
      "Epoch 140/200\n",
      "500/500 [==============================] - 126s 252ms/step - loss: 0.0564 - val_loss: 0.1190\n",
      "Epoch 141/200\n",
      "500/500 [==============================] - 125s 249ms/step - loss: 0.0566 - val_loss: 0.1195\n",
      "Epoch 142/200\n",
      "500/500 [==============================] - 127s 254ms/step - loss: 0.0557 - val_loss: 0.1161\n",
      "Epoch 143/200\n",
      "500/500 [==============================] - 127s 253ms/step - loss: 0.0561 - val_loss: 0.1219\n",
      "Epoch 144/200\n",
      "500/500 [==============================] - 126s 252ms/step - loss: 0.0558 - val_loss: 0.1114\n",
      "Epoch 145/200\n",
      "500/500 [==============================] - 124s 248ms/step - loss: 0.0558 - val_loss: 0.1196\n",
      "Epoch 146/200\n",
      "500/500 [==============================] - 125s 249ms/step - loss: 0.0561 - val_loss: 0.1184\n",
      "Epoch 147/200\n",
      "500/500 [==============================] - 125s 250ms/step - loss: 0.0570 - val_loss: 0.1139\n",
      "Epoch 148/200\n",
      "500/500 [==============================] - 124s 248ms/step - loss: 0.0560 - val_loss: 0.1170\n",
      "Epoch 149/200\n",
      "500/500 [==============================] - 126s 252ms/step - loss: 0.0554 - val_loss: 0.1187\n",
      "Epoch 150/200\n",
      "500/500 [==============================] - 125s 250ms/step - loss: 0.0563 - val_loss: 0.1159\n",
      "Epoch 151/200\n",
      "500/500 [==============================] - 124s 249ms/step - loss: 0.0562 - val_loss: 0.1129\n",
      "Epoch 152/200\n",
      "500/500 [==============================] - 125s 250ms/step - loss: 0.0566 - val_loss: 0.1160\n",
      "Epoch 153/200\n",
      "500/500 [==============================] - 125s 251ms/step - loss: 0.0562 - val_loss: 0.1289\n",
      "Epoch 154/200\n",
      "500/500 [==============================] - 125s 250ms/step - loss: 0.0562 - val_loss: 0.1254\n"
     ]
    },
    {
     "name": "stdout",
     "output_type": "stream",
     "text": [
      "Epoch 155/200\n",
      "500/500 [==============================] - 124s 247ms/step - loss: 0.0562 - val_loss: 0.1193\n",
      "Epoch 156/200\n",
      "500/500 [==============================] - 126s 252ms/step - loss: 0.0554 - val_loss: 0.1304\n",
      "Epoch 157/200\n",
      "500/500 [==============================] - 125s 251ms/step - loss: 0.0557 - val_loss: 0.1194\n",
      "Epoch 158/200\n",
      "500/500 [==============================] - 124s 249ms/step - loss: 0.0561 - val_loss: 0.1225\n",
      "Epoch 159/200\n",
      "500/500 [==============================] - 126s 251ms/step - loss: 0.0560 - val_loss: 0.1269\n",
      "Epoch 160/200\n",
      "500/500 [==============================] - 125s 251ms/step - loss: 0.0554 - val_loss: 0.1188\n",
      "Epoch 161/200\n",
      "500/500 [==============================] - 125s 249ms/step - loss: 0.0551 - val_loss: 0.1310\n",
      "Epoch 162/200\n",
      "500/500 [==============================] - 125s 250ms/step - loss: 0.0553 - val_loss: 0.1283\n",
      "Epoch 163/200\n",
      "500/500 [==============================] - 125s 251ms/step - loss: 0.0553 - val_loss: 0.1234\n",
      "Epoch 164/200\n",
      "500/500 [==============================] - 127s 253ms/step - loss: 0.0557 - val_loss: 0.1295\n",
      "Epoch 165/200\n",
      "500/500 [==============================] - 128s 256ms/step - loss: 0.0555 - val_loss: 0.1262\n",
      "Epoch 166/200\n",
      "500/500 [==============================] - 130s 260ms/step - loss: 0.0552 - val_loss: 0.1280\n",
      "Epoch 167/200\n",
      "500/500 [==============================] - 128s 255ms/step - loss: 0.0557 - val_loss: 0.1173\n",
      "Epoch 168/200\n",
      "500/500 [==============================] - 126s 251ms/step - loss: 0.0555 - val_loss: 0.1220\n",
      "Epoch 169/200\n",
      "500/500 [==============================] - 125s 249ms/step - loss: 0.0555 - val_loss: 0.1234\n",
      "Epoch 170/200\n",
      "500/500 [==============================] - 126s 253ms/step - loss: 0.0555 - val_loss: 0.1331\n",
      "Epoch 171/200\n",
      "500/500 [==============================] - 125s 250ms/step - loss: 0.0551 - val_loss: 0.1245\n",
      "Epoch 172/200\n",
      "500/500 [==============================] - 125s 250ms/step - loss: 0.0549 - val_loss: 0.1326\n",
      "Epoch 173/200\n",
      "500/500 [==============================] - 125s 250ms/step - loss: 0.0554 - val_loss: 0.1364\n",
      "Epoch 174/200\n",
      "500/500 [==============================] - 127s 255ms/step - loss: 0.0550 - val_loss: 0.1276\n",
      "Epoch 175/200\n",
      "500/500 [==============================] - 126s 252ms/step - loss: 0.0555 - val_loss: 0.1301\n",
      "Epoch 176/200\n",
      "500/500 [==============================] - 125s 250ms/step - loss: 0.0552 - val_loss: 0.1239\n",
      "Epoch 177/200\n",
      "500/500 [==============================] - 125s 250ms/step - loss: 0.0548 - val_loss: 0.1377\n",
      "Epoch 178/200\n",
      "500/500 [==============================] - 125s 251ms/step - loss: 0.0554 - val_loss: 0.1273\n",
      "Epoch 179/200\n",
      "500/500 [==============================] - 125s 250ms/step - loss: 0.0554 - val_loss: 0.1346\n",
      "Epoch 180/200\n",
      "500/500 [==============================] - 125s 250ms/step - loss: 0.0547 - val_loss: 0.1217\n",
      "Epoch 181/200\n",
      "500/500 [==============================] - 126s 252ms/step - loss: 0.0554 - val_loss: 0.1176\n",
      "Epoch 182/200\n",
      "500/500 [==============================] - 125s 250ms/step - loss: 0.0553 - val_loss: 0.1205\n",
      "Epoch 183/200\n",
      "500/500 [==============================] - 125s 250ms/step - loss: 0.0551 - val_loss: 0.1214\n",
      "Epoch 184/200\n",
      "500/500 [==============================] - 125s 249ms/step - loss: 0.0549 - val_loss: 0.1360\n",
      "Epoch 185/200\n",
      "500/500 [==============================] - 125s 249ms/step - loss: 0.0552 - val_loss: 0.1335\n",
      "Epoch 186/200\n",
      "500/500 [==============================] - 124s 249ms/step - loss: 0.0552 - val_loss: 0.1268\n",
      "Epoch 187/200\n",
      "500/500 [==============================] - 125s 249ms/step - loss: 0.0550 - val_loss: 0.1339\n",
      "Epoch 188/200\n",
      "500/500 [==============================] - 126s 251ms/step - loss: 0.0546 - val_loss: 0.1409\n",
      "Epoch 189/200\n",
      "500/500 [==============================] - 125s 250ms/step - loss: 0.0556 - val_loss: 0.1289\n",
      "Epoch 190/200\n",
      "500/500 [==============================] - 126s 251ms/step - loss: 0.0551 - val_loss: 0.1412\n",
      "Epoch 191/200\n",
      "500/500 [==============================] - 126s 252ms/step - loss: 0.0549 - val_loss: 0.1344\n",
      "Epoch 192/200\n",
      "500/500 [==============================] - 125s 250ms/step - loss: 0.0546 - val_loss: 0.1336\n",
      "Epoch 193/200\n",
      "500/500 [==============================] - 123s 247ms/step - loss: 0.0549 - val_loss: 0.1282\n",
      "Epoch 194/200\n",
      "500/500 [==============================] - 124s 247ms/step - loss: 0.0548 - val_loss: 0.1509\n",
      "Epoch 195/200\n",
      "500/500 [==============================] - 124s 247ms/step - loss: 0.0544 - val_loss: 0.1278\n",
      "Epoch 196/200\n",
      "500/500 [==============================] - 122s 244ms/step - loss: 0.0546 - val_loss: 0.1294\n",
      "Epoch 197/200\n",
      "500/500 [==============================] - 123s 245ms/step - loss: 0.0546 - val_loss: 0.1327\n",
      "Epoch 198/200\n",
      "500/500 [==============================] - 126s 251ms/step - loss: 0.0548 - val_loss: 0.1333\n",
      "Epoch 199/200\n",
      "500/500 [==============================] - 126s 251ms/step - loss: 0.0549 - val_loss: 0.1292\n",
      "Epoch 200/200\n",
      "500/500 [==============================] - 125s 250ms/step - loss: 0.0545 - val_loss: 0.1236\n"
     ]
    }
   ],
   "source": [
    "r_model.compile(rmsprop, loss='mean_absolute_error')\n",
    "\n",
    "history = r_model.fit_generator(train_data_generator, \n",
    "                    steps_per_epoch = steps_per_epoch,\n",
    "                    epochs=epochs,\n",
    "                    validation_data=val_data_generator,\n",
    "                             validation_steps=50)"
   ]
  },
  {
   "cell_type": "code",
   "execution_count": 353,
   "metadata": {},
   "outputs": [],
   "source": [
    "r_model.save('./base04.h5')\n",
    "r_model.save_weights('./base04_w.h5')"
   ]
  },
  {
   "cell_type": "code",
   "execution_count": 355,
   "metadata": {},
   "outputs": [
    {
     "name": "stdout",
     "output_type": "stream",
     "text": [
      "2000/2000 [==============================] - 221s 111ms/step\n"
     ]
    },
    {
     "data": {
      "text/plain": [
       "0.0750373397283256"
      ]
     },
     "execution_count": 355,
     "metadata": {},
     "output_type": "execute_result"
    }
   ],
   "source": [
    "r_model.evaluate_generator(test_data_generator,steps=2000,verbose=1)"
   ]
  },
  {
   "cell_type": "code",
   "execution_count": null,
   "metadata": {},
   "outputs": [],
   "source": []
  }
 ],
 "metadata": {
  "kernelspec": {
   "display_name": "Python 3",
   "language": "python",
   "name": "python3"
  },
  "language_info": {
   "codemirror_mode": {
    "name": "ipython",
    "version": 3
   },
   "file_extension": ".py",
   "mimetype": "text/x-python",
   "name": "python",
   "nbconvert_exporter": "python",
   "pygments_lexer": "ipython3",
   "version": "3.5.2"
  }
 },
 "nbformat": 4,
 "nbformat_minor": 2
}
